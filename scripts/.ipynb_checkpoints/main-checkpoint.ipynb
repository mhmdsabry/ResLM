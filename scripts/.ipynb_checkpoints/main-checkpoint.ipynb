{
 "cells": [
  {
   "cell_type": "markdown",
   "id": "8631b526",
   "metadata": {},
   "source": [
    "### Train:"
   ]
  },
  {
   "cell_type": "code",
   "execution_count": 57,
   "id": "62d8c427",
   "metadata": {
    "scrolled": true
   },
   "outputs": [
    {
     "name": "stdout",
     "output_type": "stream",
     "text": [
      "Read /home/mhmd_sabry_ab/data/kiba/ start\n",
      "Reading /home/mhmd_sabry_ab/data/kiba/ start\n",
      "Start Pairing: 100%|█████████████████| 118254/118254 [00:01<00:00, 60700.71it/s]\n",
      "Some weights of the model checkpoint at bert-base-uncased were not used when initializing BertModel: ['cls.predictions.transform.dense.weight', 'cls.seq_relationship.weight', 'cls.predictions.transform.dense.bias', 'cls.predictions.transform.LayerNorm.weight', 'cls.predictions.decoder.weight', 'cls.seq_relationship.bias', 'cls.predictions.bias', 'cls.predictions.transform.LayerNorm.bias']\n",
      "- This IS expected if you are initializing BertModel from the checkpoint of a model trained on another task or with another architecture (e.g. initializing a BertForSequenceClassification model from a BertForPreTraining model).\n",
      "- This IS NOT expected if you are initializing BertModel from the checkpoint of a model that you expect to be exactly identical (initializing a BertForSequenceClassification model from a BertForSequenceClassification model).\n",
      "02/07/2022 21:34:03 - INFO - DTI_model -   number of all parameters: 1.140367e+08\n",
      "02/07/2022 21:34:03 - INFO - DTI_model -   number of  trainable parameters: 4.986116e+06\n",
      "epoch=1/ 6\n",
      "Itr=0, loss=110.42489624023438\n",
      "Itr=50, loss=0.8765363693237305\n",
      "Itr=100, loss=0.8716797232627869\n",
      "Itr=150, loss=0.8060014247894287\n",
      "Itr=200, loss=0.6615914702415466\n",
      "Itr=250, loss=0.7792219519615173\n",
      "Itr=300, loss=0.9493191838264465\n",
      "02/07/2022 21:39:08 - INFO - Trainer -   Saving at /home/mhmd_sabry_ab/models/Bert/model_checkpoints/bert_lr_warmup_0.0_2rnn_enabled\n",
      "02/07/2022 21:39:08 - INFO - Trainer -   Saving at /home/mhmd_sabry_ab/models/Bert/model_checkpoints/bert_lr_warmup_0.0_2rnn_enabled\n",
      "02/07/2022 21:39:08 - INFO - Trainer -   Saving at /home/mhmd_sabry_ab/models/Bert/model_checkpoints/bert_lr_warmup_0.0_2rnn_enabled\n",
      "02/07/2022 21:39:08 - INFO - Trainer -   Saving at /home/mhmd_sabry_ab/models/Bert/model_checkpoints/bert_lr_warmup_0.0_2rnn_enabled\n",
      "02/07/2022 21:39:08 - INFO - Trainer -   Saving at /home/mhmd_sabry_ab/models/Bert/model_checkpoints/bert_lr_warmup_0.0_2rnn_enabled\n",
      "02/07/2022 21:39:08 - INFO - Trainer -   Saving at /home/mhmd_sabry_ab/models/Bert/model_checkpoints/bert_lr_warmup_0.0_2rnn_enabled\n",
      "02/07/2022 21:39:08 - INFO - Trainer -   Saving at /home/mhmd_sabry_ab/models/Bert/model_checkpoints/bert_lr_warmup_0.0_2rnn_enabled\n",
      "02/07/2022 21:39:08 - INFO - Trainer -   Saving at /home/mhmd_sabry_ab/models/Bert/model_checkpoints/bert_lr_warmup_0.0_2rnn_enabled\n",
      "epoch=2/ 6\n",
      "Itr=0, loss=0.5846750736236572\n",
      "Itr=50, loss=0.5955206155776978\n",
      "Itr=100, loss=0.6840534806251526\n",
      "Itr=150, loss=0.6894224882125854\n",
      "Itr=200, loss=0.6660094261169434\n",
      "Itr=250, loss=0.7444631457328796\n",
      "Itr=300, loss=0.9411090612411499\n",
      "epoch=3/ 6\n",
      "Itr=0, loss=0.6208922266960144\n",
      "Itr=50, loss=0.5479477047920227\n",
      "Itr=100, loss=0.6652466654777527\n",
      "Itr=150, loss=0.6808764338493347\n",
      "Itr=200, loss=0.6434400677680969\n",
      "Itr=250, loss=0.7546471357345581\n",
      "Itr=300, loss=1.0086681842803955\n",
      "epoch=4/ 6\n",
      "Itr=0, loss=0.5814529061317444\n",
      "Itr=50, loss=0.5743387341499329\n",
      "Itr=100, loss=0.6837477087974548\n",
      "Itr=150, loss=0.6675044298171997\n",
      "Itr=200, loss=0.6227789521217346\n",
      "Itr=250, loss=0.7252306342124939\n",
      "Itr=300, loss=0.925735592842102\n",
      "02/07/2022 21:52:50 - INFO - Trainer -   Saving at /home/mhmd_sabry_ab/models/Bert/model_checkpoints/bert_lr_warmup_0.0_2rnn_enabled\n",
      "02/07/2022 21:52:50 - INFO - Trainer -   Saving at /home/mhmd_sabry_ab/models/Bert/model_checkpoints/bert_lr_warmup_0.0_2rnn_enabled\n",
      "02/07/2022 21:52:50 - INFO - Trainer -   Saving at /home/mhmd_sabry_ab/models/Bert/model_checkpoints/bert_lr_warmup_0.0_2rnn_enabled\n",
      "02/07/2022 21:52:50 - INFO - Trainer -   Saving at /home/mhmd_sabry_ab/models/Bert/model_checkpoints/bert_lr_warmup_0.0_2rnn_enabled\n",
      "02/07/2022 21:52:50 - INFO - Trainer -   Saving at /home/mhmd_sabry_ab/models/Bert/model_checkpoints/bert_lr_warmup_0.0_2rnn_enabled\n",
      "02/07/2022 21:52:50 - INFO - Trainer -   Saving at /home/mhmd_sabry_ab/models/Bert/model_checkpoints/bert_lr_warmup_0.0_2rnn_enabled\n",
      "02/07/2022 21:52:50 - INFO - Trainer -   Saving at /home/mhmd_sabry_ab/models/Bert/model_checkpoints/bert_lr_warmup_0.0_2rnn_enabled\n",
      "02/07/2022 21:52:50 - INFO - Trainer -   Saving at /home/mhmd_sabry_ab/models/Bert/model_checkpoints/bert_lr_warmup_0.0_2rnn_enabled\n",
      "epoch=5/ 6\n",
      "Itr=0, loss=0.5469522476196289\n",
      "Itr=50, loss=0.5518079400062561\n",
      "Itr=100, loss=0.661815881729126\n",
      "Itr=150, loss=0.6562021970748901\n",
      "Itr=200, loss=0.6281318664550781\n",
      "Itr=250, loss=0.7418836951255798\n",
      "Itr=300, loss=0.9272692799568176\n",
      "02/07/2022 21:57:28 - INFO - Trainer -   Saving at /home/mhmd_sabry_ab/models/Bert/model_checkpoints/bert_lr_warmup_0.0_2rnn_enabled\n",
      "02/07/2022 21:57:28 - INFO - Trainer -   Saving at /home/mhmd_sabry_ab/models/Bert/model_checkpoints/bert_lr_warmup_0.0_2rnn_enabled\n",
      "02/07/2022 21:57:28 - INFO - Trainer -   Saving at /home/mhmd_sabry_ab/models/Bert/model_checkpoints/bert_lr_warmup_0.0_2rnn_enabled\n",
      "02/07/2022 21:57:28 - INFO - Trainer -   Saving at /home/mhmd_sabry_ab/models/Bert/model_checkpoints/bert_lr_warmup_0.0_2rnn_enabled\n",
      "02/07/2022 21:57:28 - INFO - Trainer -   Saving at /home/mhmd_sabry_ab/models/Bert/model_checkpoints/bert_lr_warmup_0.0_2rnn_enabled\n",
      "02/07/2022 21:57:28 - INFO - Trainer -   Saving at /home/mhmd_sabry_ab/models/Bert/model_checkpoints/bert_lr_warmup_0.0_2rnn_enabled\n",
      "02/07/2022 21:57:28 - INFO - Trainer -   Saving at /home/mhmd_sabry_ab/models/Bert/model_checkpoints/bert_lr_warmup_0.0_2rnn_enabled\n",
      "02/07/2022 21:57:28 - INFO - Trainer -   Saving at /home/mhmd_sabry_ab/models/Bert/model_checkpoints/bert_lr_warmup_0.0_2rnn_enabled\n",
      "epoch=6/ 6\n",
      "Itr=0, loss=0.5622170567512512\n",
      "Itr=50, loss=0.5451474189758301\n",
      "Itr=100, loss=0.6694632768630981\n",
      "Itr=150, loss=0.6555712223052979\n",
      "Itr=200, loss=0.6282398104667664\n",
      "Itr=250, loss=0.7270619869232178\n",
      "Itr=300, loss=0.8930713534355164\n"
     ]
    }
   ],
   "source": [
    "!python train.py -c bert_config.ini"
   ]
  },
  {
   "cell_type": "markdown",
   "id": "f29b724b",
   "metadata": {},
   "source": [
    "### Querying Block: Conv1d\n",
    "* 02/07/2022 12:34:16 - INFO - DTI_model -   number of all parameters: 1.242409e+08\n",
    "* 02/07/2022 12:34:16 - INFO - DTI_model -   number of  trainable parameters: 1.519027e+07\n",
    "\n",
    "### Querying Block: 1-RNN without read and write layers\n",
    "* 02/07/2022 18:46:34 - INFO - DTI_model -   number of all parameters: 1.128371e+08\n",
    "* 02/07/2022 18:46:34 - INFO - DTI_model -   number of  trainable parameters: 3.786496e+06\n",
    "\n",
    "### Querying Block: 1-RNN with read and write layers\n",
    "* 02/07/2022 19:39:16 - INFO - DTI_model -   number of all parameters: 1.128556e+08\n",
    "* 02/07/2022 19:39:16 - INFO - DTI_model -   number of  trainable parameters: 3.804932e+06\n",
    "\n",
    "### Querying Block: 2-RNN with read and write layers\n",
    "* 02/07/2022 20:43:18 - INFO - DTI_model -   number of all parameters: 1.140367e+08\n",
    "* 02/07/2022 20:43:18 - INFO - DTI_model -   number of  trainable parameters: 4.986116e+06"
   ]
  },
  {
   "cell_type": "markdown",
   "id": "78e63649",
   "metadata": {},
   "source": [
    "### Learning_Curve:"
   ]
  },
  {
   "cell_type": "code",
   "execution_count": 58,
   "id": "5c47a593",
   "metadata": {},
   "outputs": [
    {
     "data": {
      "image/png": "[encoded data removed]",
      "text/plain": [
       "<Figure size 432x288 with 1 Axes>"
      ]
     },
     "metadata": {
      "needs_background": "light"
     },
     "output_type": "display_data"
    }
   ],
   "source": [
    "import utils\n",
    "from utils import plot_learning_curve\n",
    "train_state_path = '/home/mhmd_sabry_ab/models/Bert/model_checkpoints/bert_lr1e4_warmup_0.0_2rnn_enabled_6epoch_train_state.json'\n",
    "saving_path = '/home/mhmd_sabry_ab/models/Bert/model_checkpoints/bert_lr1e4_warmup_0.0_2rnn_enabled_6epoch'\n",
    "plot_learning_curve(train_state_path,saving_path)"
   ]
  },
  {
   "cell_type": "markdown",
   "id": "03dc5f12",
   "metadata": {},
   "source": [
    "### Testset Metrics:"
   ]
  },
  {
   "cell_type": "code",
   "execution_count": 59,
   "id": "e48e2066",
   "metadata": {},
   "outputs": [
    {
     "name": "stdout",
     "output_type": "stream",
     "text": [
      "Read /home/mhmd_sabry_ab/data/kiba/ start\n",
      "Reading /home/mhmd_sabry_ab/data/kiba/ start\n",
      "Start Pairing: 100%|█████████████████| 118254/118254 [00:01<00:00, 97548.36it/s]\n",
      "Some weights of the model checkpoint at bert-base-uncased were not used when initializing BertModel: ['cls.predictions.decoder.weight', 'cls.predictions.transform.dense.weight', 'cls.predictions.transform.LayerNorm.weight', 'cls.predictions.bias', 'cls.seq_relationship.weight', 'cls.seq_relationship.bias', 'cls.predictions.transform.LayerNorm.bias', 'cls.predictions.transform.dense.bias']\n",
      "- This IS expected if you are initializing BertModel from the checkpoint of a model trained on another task or with another architecture (e.g. initializing a BertForSequenceClassification model from a BertForPreTraining model).\n",
      "- This IS NOT expected if you are initializing BertModel from the checkpoint of a model that you expect to be exactly identical (initializing a BertForSequenceClassification model from a BertForSequenceClassification model).\n",
      "CI:0.5485861726771122 , MSE:0.6319513814402865 , AUPR:0.5434253246753247\n"
     ]
    }
   ],
   "source": [
    "!python test.py -c bert_config.ini"
   ]
  },
  {
   "cell_type": "code",
   "execution_count": null,
   "id": "20119546",
   "metadata": {},
   "outputs": [],
   "source": []
  }
 ],
 "metadata": {
  "kernelspec": {
   "display_name": "Python [conda env:root] *",
   "language": "python",
   "name": "conda-root-py"
  },
  "language_info": {
   "codemirror_mode": {
    "name": "ipython",
    "version": 3
   },
   "file_extension": ".py",
   "mimetype": "text/x-python",
   "name": "python",
   "nbconvert_exporter": "python",
   "pygments_lexer": "ipython3",
   "version": "3.7.12"
  }
 },
 "nbformat": 4,
 "nbformat_minor": 5
}

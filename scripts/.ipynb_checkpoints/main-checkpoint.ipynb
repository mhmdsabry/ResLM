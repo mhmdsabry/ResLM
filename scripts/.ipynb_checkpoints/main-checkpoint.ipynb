{
 "cells": [
  {
   "cell_type": "markdown",
   "id": "8631b526",
   "metadata": {},
   "source": [
    "### Train:"
   ]
  },
  {
   "cell_type": "code",
   "execution_count": null,
   "id": "62d8c427",
   "metadata": {
    "scrolled": true
   },
   "outputs": [
    {
     "name": "stdout",
     "output_type": "stream",
     "text": [
      "Read /home/mhmd_sabry_ab/data/kiba/ start\n",
      "Reading /home/mhmd_sabry_ab/data/kiba/ start\n",
      "Start Pairing: 100%|████████████████| 118254/118254 [00:01<00:00, 102114.42it/s]\n",
      "Some weights of the model checkpoint at bert-base-uncased were not used when initializing BertModel: ['cls.predictions.decoder.weight', 'cls.predictions.transform.dense.bias', 'cls.predictions.transform.LayerNorm.weight', 'cls.seq_relationship.weight', 'cls.seq_relationship.bias', 'cls.predictions.transform.dense.weight', 'cls.predictions.transform.LayerNorm.bias', 'cls.predictions.bias']\n",
      "- This IS expected if you are initializing BertModel from the checkpoint of a model trained on another task or with another architecture (e.g. initializing a BertForSequenceClassification model from a BertForPreTraining model).\n",
      "- This IS NOT expected if you are initializing BertModel from the checkpoint of a model that you expect to be exactly identical (initializing a BertForSequenceClassification model from a BertForSequenceClassification model).\n",
      "02/13/2022 19:53:05 - INFO - DTI_model -   number of all parameters: 1.140367e+08\n",
      "02/13/2022 19:53:05 - INFO - DTI_model -   number of  trainable parameters: 4.986116e+06\n",
      "epoch=1/ 6\n",
      "Itr=0, loss=120.4062728881836\n",
      "Itr=50, loss=13.332503318786621\n",
      "Itr=100, loss=0.6386232376098633\n",
      "Itr=150, loss=0.6415296196937561\n",
      "Itr=200, loss=0.618486762046814\n",
      "Itr=250, loss=0.6733847856521606\n",
      "Itr=300, loss=0.8262420892715454\n",
      "02/13/2022 19:58:23 - INFO - Trainer -   Saving at /home/mhmd_sabry_ab/models/Bert/model_checkpoints/bert_gp16_lr3e4_linearwarmup_std002_w06_0.4_2rnn_enabled\n",
      "02/13/2022 19:58:23 - INFO - Trainer -   Saving at /home/mhmd_sabry_ab/models/Bert/model_checkpoints/bert_gp16_lr3e4_linearwarmup_std002_w06_0.4_2rnn_enabled\n",
      "02/13/2022 19:58:23 - INFO - Trainer -   Saving at /home/mhmd_sabry_ab/models/Bert/model_checkpoints/bert_gp16_lr3e4_linearwarmup_std002_w06_0.4_2rnn_enabled\n",
      "02/13/2022 19:58:23 - INFO - Trainer -   Saving at /home/mhmd_sabry_ab/models/Bert/model_checkpoints/bert_gp16_lr3e4_linearwarmup_std002_w06_0.4_2rnn_enabled\n",
      "02/13/2022 19:58:23 - INFO - Trainer -   Saving at /home/mhmd_sabry_ab/models/Bert/model_checkpoints/bert_gp16_lr3e4_linearwarmup_std002_w06_0.4_2rnn_enabled\n",
      "02/13/2022 19:58:23 - INFO - Trainer -   Saving at /home/mhmd_sabry_ab/models/Bert/model_checkpoints/bert_gp16_lr3e4_linearwarmup_std002_w06_0.4_2rnn_enabled\n",
      "02/13/2022 19:58:23 - INFO - Trainer -   Saving at /home/mhmd_sabry_ab/models/Bert/model_checkpoints/bert_gp16_lr3e4_linearwarmup_std002_w06_0.4_2rnn_enabled\n",
      "02/13/2022 19:58:23 - INFO - Trainer -   Saving at /home/mhmd_sabry_ab/models/Bert/model_checkpoints/bert_gp16_lr3e4_linearwarmup_std002_w06_0.4_2rnn_enabled\n",
      "epoch=2/ 6\n",
      "Itr=0, loss=0.49049851298332214\n",
      "Itr=50, loss=0.521808922290802\n",
      "Itr=100, loss=0.5233832001686096\n",
      "Itr=150, loss=0.5918794274330139\n",
      "Itr=200, loss=0.5682916045188904\n",
      "Itr=250, loss=0.6623994708061218\n",
      "Itr=300, loss=0.7506399154663086\n",
      "02/13/2022 20:03:20 - INFO - Trainer -   Saving at /home/mhmd_sabry_ab/models/Bert/model_checkpoints/bert_gp16_lr3e4_linearwarmup_std002_w06_0.4_2rnn_enabled\n",
      "02/13/2022 20:03:20 - INFO - Trainer -   Saving at /home/mhmd_sabry_ab/models/Bert/model_checkpoints/bert_gp16_lr3e4_linearwarmup_std002_w06_0.4_2rnn_enabled\n",
      "02/13/2022 20:03:20 - INFO - Trainer -   Saving at /home/mhmd_sabry_ab/models/Bert/model_checkpoints/bert_gp16_lr3e4_linearwarmup_std002_w06_0.4_2rnn_enabled\n",
      "02/13/2022 20:03:20 - INFO - Trainer -   Saving at /home/mhmd_sabry_ab/models/Bert/model_checkpoints/bert_gp16_lr3e4_linearwarmup_std002_w06_0.4_2rnn_enabled\n",
      "02/13/2022 20:03:20 - INFO - Trainer -   Saving at /home/mhmd_sabry_ab/models/Bert/model_checkpoints/bert_gp16_lr3e4_linearwarmup_std002_w06_0.4_2rnn_enabled\n",
      "02/13/2022 20:03:20 - INFO - Trainer -   Saving at /home/mhmd_sabry_ab/models/Bert/model_checkpoints/bert_gp16_lr3e4_linearwarmup_std002_w06_0.4_2rnn_enabled\n",
      "02/13/2022 20:03:20 - INFO - Trainer -   Saving at /home/mhmd_sabry_ab/models/Bert/model_checkpoints/bert_gp16_lr3e4_linearwarmup_std002_w06_0.4_2rnn_enabled\n",
      "02/13/2022 20:03:20 - INFO - Trainer -   Saving at /home/mhmd_sabry_ab/models/Bert/model_checkpoints/bert_gp16_lr3e4_linearwarmup_std002_w06_0.4_2rnn_enabled\n",
      "epoch=3/ 6\n",
      "Itr=0, loss=0.45214250683784485\n",
      "Itr=50, loss=0.4602624177932739\n",
      "Itr=100, loss=0.5262748003005981\n",
      "Itr=150, loss=0.5481915473937988\n",
      "Itr=200, loss=0.5519858598709106\n",
      "Itr=250, loss=0.6075121760368347\n",
      "Itr=300, loss=0.7098028063774109\n",
      "02/13/2022 20:08:14 - INFO - Trainer -   Saving at /home/mhmd_sabry_ab/models/Bert/model_checkpoints/bert_gp16_lr3e4_linearwarmup_std002_w06_0.4_2rnn_enabled\n",
      "02/13/2022 20:08:14 - INFO - Trainer -   Saving at /home/mhmd_sabry_ab/models/Bert/model_checkpoints/bert_gp16_lr3e4_linearwarmup_std002_w06_0.4_2rnn_enabled\n",
      "02/13/2022 20:08:14 - INFO - Trainer -   Saving at /home/mhmd_sabry_ab/models/Bert/model_checkpoints/bert_gp16_lr3e4_linearwarmup_std002_w06_0.4_2rnn_enabled\n",
      "02/13/2022 20:08:14 - INFO - Trainer -   Saving at /home/mhmd_sabry_ab/models/Bert/model_checkpoints/bert_gp16_lr3e4_linearwarmup_std002_w06_0.4_2rnn_enabled\n",
      "02/13/2022 20:08:14 - INFO - Trainer -   Saving at /home/mhmd_sabry_ab/models/Bert/model_checkpoints/bert_gp16_lr3e4_linearwarmup_std002_w06_0.4_2rnn_enabled\n",
      "02/13/2022 20:08:14 - INFO - Trainer -   Saving at /home/mhmd_sabry_ab/models/Bert/model_checkpoints/bert_gp16_lr3e4_linearwarmup_std002_w06_0.4_2rnn_enabled\n",
      "02/13/2022 20:08:14 - INFO - Trainer -   Saving at /home/mhmd_sabry_ab/models/Bert/model_checkpoints/bert_gp16_lr3e4_linearwarmup_std002_w06_0.4_2rnn_enabled\n",
      "02/13/2022 20:08:14 - INFO - Trainer -   Saving at /home/mhmd_sabry_ab/models/Bert/model_checkpoints/bert_gp16_lr3e4_linearwarmup_std002_w06_0.4_2rnn_enabled\n",
      "epoch=4/ 6\n",
      "Itr=0, loss=0.4389219582080841\n",
      "Itr=50, loss=0.4970080256462097\n",
      "Itr=100, loss=0.4977761507034302\n",
      "Itr=150, loss=0.5287785530090332\n",
      "Itr=200, loss=0.5199630856513977\n",
      "Itr=250, loss=0.5857990980148315\n",
      "Itr=300, loss=0.6725080609321594\n",
      "epoch=5/ 6\n",
      "Itr=0, loss=0.4064554274082184\n",
      "Itr=50, loss=0.41295090317726135\n",
      "Itr=100, loss=0.458881676197052\n",
      "Itr=150, loss=0.5171005725860596\n",
      "Itr=200, loss=0.5036971569061279\n",
      "Itr=250, loss=0.5154873728752136\n",
      "Itr=300, loss=0.652600109577179\n",
      "02/13/2022 20:17:54 - INFO - Trainer -   Saving at /home/mhmd_sabry_ab/models/Bert/model_checkpoints/bert_gp16_lr3e4_linearwarmup_std002_w06_0.4_2rnn_enabled\n",
      "02/13/2022 20:17:54 - INFO - Trainer -   Saving at /home/mhmd_sabry_ab/models/Bert/model_checkpoints/bert_gp16_lr3e4_linearwarmup_std002_w06_0.4_2rnn_enabled\n",
      "02/13/2022 20:17:54 - INFO - Trainer -   Saving at /home/mhmd_sabry_ab/models/Bert/model_checkpoints/bert_gp16_lr3e4_linearwarmup_std002_w06_0.4_2rnn_enabled\n",
      "02/13/2022 20:17:54 - INFO - Trainer -   Saving at /home/mhmd_sabry_ab/models/Bert/model_checkpoints/bert_gp16_lr3e4_linearwarmup_std002_w06_0.4_2rnn_enabled\n",
      "02/13/2022 20:17:54 - INFO - Trainer -   Saving at /home/mhmd_sabry_ab/models/Bert/model_checkpoints/bert_gp16_lr3e4_linearwarmup_std002_w06_0.4_2rnn_enabled\n",
      "02/13/2022 20:17:54 - INFO - Trainer -   Saving at /home/mhmd_sabry_ab/models/Bert/model_checkpoints/bert_gp16_lr3e4_linearwarmup_std002_w06_0.4_2rnn_enabled\n",
      "02/13/2022 20:17:54 - INFO - Trainer -   Saving at /home/mhmd_sabry_ab/models/Bert/model_checkpoints/bert_gp16_lr3e4_linearwarmup_std002_w06_0.4_2rnn_enabled\n",
      "02/13/2022 20:17:54 - INFO - Trainer -   Saving at /home/mhmd_sabry_ab/models/Bert/model_checkpoints/bert_gp16_lr3e4_linearwarmup_std002_w06_0.4_2rnn_enabled\n",
      "epoch=6/ 6\n",
      "Itr=0, loss=0.4279690682888031\n",
      "Itr=50, loss=0.4008502960205078\n",
      "Itr=100, loss=0.4133174419403076\n",
      "Itr=150, loss=0.4974493682384491\n",
      "Itr=200, loss=0.4688824713230133\n",
      "Itr=250, loss=0.4978533983230591\n"
     ]
    }
   ],
   "source": [
    "!python train.py -c bert_config.ini"
   ]
  },
  {
   "cell_type": "markdown",
   "id": "6fec5e7a",
   "metadata": {},
   "source": [
    "## Bert\n",
    "### Querying Block: Conv1d\n",
    "* 02/07/2022 12:34:16 - INFO - DTI_model -   number of all parameters: 1.242409e+08\n",
    "* 02/07/2022 12:34:16 - INFO - DTI_model -   number of  trainable parameters: 1.519027e+07\n",
    "\n",
    "### Querying Block: 1-RNN without read and write layers\n",
    "* 02/07/2022 18:46:34 - INFO - DTI_model -   number of all parameters: 1.128371e+08\n",
    "* 02/07/2022 18:46:34 - INFO - DTI_model -   number of  trainable parameters: 3.786496e+06\n",
    "\n",
    "### Querying Block: 1-RNN with read and write layers\n",
    "* 02/07/2022 19:39:16 - INFO - DTI_model -   number of all parameters: 1.128556e+08\n",
    "* 02/07/2022 19:39:16 - INFO - DTI_model -   number of  trainable parameters: 3.804932e+06\n",
    "\n",
    "### Querying Block: 2-RNN with read and write layers\n",
    "* 02/07/2022 20:43:18 - INFO - DTI_model -   number of all parameters: 1.140367e+08\n",
    "* 02/07/2022 20:43:18 - INFO - DTI_model -   number of  trainable parameters: 4.986116e+06\n",
    "\n",
    "## mBert\n",
    "### Querying Block: 2-RNN with read and write layers\n",
    "* 02/10/2022 09:18:09 - INFO - DTI_model -   number of all parameters: 1.719109e+08\n",
    "* 02/10/2022 09:18:09 - INFO - DTI_model -   number of  trainable parameters: 4.986116e+06"
   ]
  },
  {
   "cell_type": "markdown",
   "id": "78e63649",
   "metadata": {},
   "source": [
    "### Learning_Curve:"
   ]
  },
  {
   "cell_type": "code",
   "execution_count": 112,
   "id": "5c47a593",
   "metadata": {},
   "outputs": [
    {
     "data": {
      "image/png": "[encoded data removed]",
      "text/plain": [
       "<Figure size 432x288 with 1 Axes>"
      ]
     },
     "metadata": {
      "needs_background": "light"
     },
     "output_type": "display_data"
    }
   ],
   "source": [
    "import utils\n",
    "from utils import plot_learning_curve\n",
    "train_state_path = '/home/mhmd_sabry_ab/models/Bert/model_checkpoints/bert_gp16_lr3e4_cosine_hardstartwarmup_std002_w06_0.4_2rnn_enabled_6epoch_train_state.json'\n",
    "saving_path = '/home/mhmd_sabry_ab/models/Bert/model_checkpoints/bert_gp16_lr3e4_cosine_hardstartwarmup_std002_w06_0.4_2rnn_enabled_6epoch'\n",
    "plot_learning_curve(train_state_path,saving_path)"
   ]
  },
  {
   "cell_type": "markdown",
   "id": "03dc5f12",
   "metadata": {},
   "source": [
    "### Testset Metrics:"
   ]
  },
  {
   "cell_type": "code",
   "execution_count": 111,
   "id": "e48e2066",
   "metadata": {},
   "outputs": [
    {
     "name": "stdout",
     "output_type": "stream",
     "text": [
      "Read /home/mhmd_sabry_ab/data/kiba/ start\n",
      "Reading /home/mhmd_sabry_ab/data/kiba/ start\n",
      "Start Pairing: 100%|████████████████| 118254/118254 [00:01<00:00, 106155.03it/s]\n",
      "Some weights of the model checkpoint at bert-base-uncased were not used when initializing BertModel: ['cls.seq_relationship.weight', 'cls.predictions.transform.LayerNorm.weight', 'cls.predictions.bias', 'cls.predictions.transform.LayerNorm.bias', 'cls.predictions.transform.dense.weight', 'cls.predictions.decoder.weight', 'cls.predictions.transform.dense.bias', 'cls.seq_relationship.bias']\n",
      "- This IS expected if you are initializing BertModel from the checkpoint of a model trained on another task or with another architecture (e.g. initializing a BertForSequenceClassification model from a BertForPreTraining model).\n",
      "- This IS NOT expected if you are initializing BertModel from the checkpoint of a model that you expect to be exactly identical (initializing a BertForSequenceClassification model from a BertForSequenceClassification model).\n",
      "CI:0.7686224623425605 , MSE:0.5410255240155505 , AUPR:0.4738461888578711\n"
     ]
    }
   ],
   "source": [
    "!python test.py -c bert_config.ini"
   ]
  },
  {
   "cell_type": "code",
   "execution_count": null,
   "id": "ffde64e2",
   "metadata": {},
   "outputs": [],
   "source": []
  }
 ],
 "metadata": {
  "kernelspec": {
   "display_name": "Python [conda env:root] *",
   "language": "python",
   "name": "conda-root-py"
  },
  "language_info": {
   "codemirror_mode": {
    "name": "ipython",
    "version": 3
   },
   "file_extension": ".py",
   "mimetype": "text/x-python",
   "name": "python",
   "nbconvert_exporter": "python",
   "pygments_lexer": "ipython3",
   "version": "3.7.12"
  }
 },
 "nbformat": 4,
 "nbformat_minor": 5
}

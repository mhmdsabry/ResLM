{
 "cells": [
  {
   "cell_type": "markdown",
   "id": "8631b526",
   "metadata": {},
   "source": [
    "### Train:"
   ]
  },
  {
   "cell_type": "code",
   "execution_count": 5,
   "id": "62d8c427",
   "metadata": {
    "scrolled": true
   },
   "outputs": [
    {
     "name": "stdout",
     "output_type": "stream",
     "text": [
      "Read /home/mhmd_sabry_ab/data/kiba/ start\n",
      "Reading /home/mhmd_sabry_ab/data/kiba/ start\n",
      "Start Pairing: 100%|████████████████| 118254/118254 [00:00<00:00, 121266.68it/s]\n",
      "Some weights of the model checkpoint at bert-base-uncased were not used when initializing BertModel: ['cls.predictions.transform.dense.bias', 'cls.predictions.transform.dense.weight', 'cls.predictions.transform.LayerNorm.bias', 'cls.predictions.decoder.weight', 'cls.predictions.bias', 'cls.predictions.transform.LayerNorm.weight', 'cls.seq_relationship.weight', 'cls.seq_relationship.bias']\n",
      "- This IS expected if you are initializing BertModel from the checkpoint of a model trained on another task or with another architecture (e.g. initializing a BertForSequenceClassification model from a BertForPreTraining model).\n",
      "- This IS NOT expected if you are initializing BertModel from the checkpoint of a model that you expect to be exactly identical (initializing a BertForSequenceClassification model from a BertForSequenceClassification model).\n",
      "02/07/2022 12:34:16 - INFO - DTI_model -   number of all parameters: 1.242409e+08\n",
      "02/07/2022 12:34:16 - INFO - DTI_model -   number of  trainable parameters: 1.519027e+07\n",
      "epoch=1/ 6\n",
      "Itr=0, loss=128.7507781982422\n",
      "Itr=50, loss=73.54379272460938\n",
      "Itr=100, loss=2.243440866470337\n",
      "Itr=150, loss=1.3723609447479248\n",
      "Itr=200, loss=0.927002489566803\n",
      "Itr=250, loss=0.8839424848556519\n",
      "Itr=300, loss=1.171842336654663\n",
      "02/07/2022 12:40:03 - INFO - Trainer -   Saving at /home/mhmd_sabry_ab/models/Bert/model_checkpoints/bert_lr_warmup_0.4\n",
      "02/07/2022 12:40:03 - INFO - Trainer -   Saving at /home/mhmd_sabry_ab/models/Bert/model_checkpoints/bert_lr_warmup_0.4\n",
      "02/07/2022 12:40:03 - INFO - Trainer -   Saving at /home/mhmd_sabry_ab/models/Bert/model_checkpoints/bert_lr_warmup_0.4\n",
      "02/07/2022 12:40:03 - INFO - Trainer -   Saving at /home/mhmd_sabry_ab/models/Bert/model_checkpoints/bert_lr_warmup_0.4\n",
      "02/07/2022 12:40:03 - INFO - Trainer -   Saving at /home/mhmd_sabry_ab/models/Bert/model_checkpoints/bert_lr_warmup_0.4\n",
      "02/07/2022 12:40:03 - INFO - Trainer -   Saving at /home/mhmd_sabry_ab/models/Bert/model_checkpoints/bert_lr_warmup_0.4\n",
      "02/07/2022 12:40:03 - INFO - Trainer -   Saving at /home/mhmd_sabry_ab/models/Bert/model_checkpoints/bert_lr_warmup_0.4\n",
      "02/07/2022 12:40:03 - INFO - Trainer -   Saving at /home/mhmd_sabry_ab/models/Bert/model_checkpoints/bert_lr_warmup_0.4\n",
      "epoch=2/ 6\n",
      "Itr=0, loss=0.6397256851196289\n",
      "Itr=50, loss=0.6193588972091675\n",
      "Itr=100, loss=0.7447768449783325\n",
      "Itr=150, loss=0.6983338594436646\n",
      "Itr=300, loss=0.96149080991745\n",
      "02/07/2022 12:45:01 - INFO - Trainer -   Saving at /home/mhmd_sabry_ab/models/Bert/model_checkpoints/bert_lr_warmup_0.4\n",
      "02/07/2022 12:45:01 - INFO - Trainer -   Saving at /home/mhmd_sabry_ab/models/Bert/model_checkpoints/bert_lr_warmup_0.4\n",
      "02/07/2022 12:45:01 - INFO - Trainer -   Saving at /home/mhmd_sabry_ab/models/Bert/model_checkpoints/bert_lr_warmup_0.4\n",
      "02/07/2022 12:45:01 - INFO - Trainer -   Saving at /home/mhmd_sabry_ab/models/Bert/model_checkpoints/bert_lr_warmup_0.4\n",
      "02/07/2022 12:45:01 - INFO - Trainer -   Saving at /home/mhmd_sabry_ab/models/Bert/model_checkpoints/bert_lr_warmup_0.4\n",
      "02/07/2022 12:45:01 - INFO - Trainer -   Saving at /home/mhmd_sabry_ab/models/Bert/model_checkpoints/bert_lr_warmup_0.4\n",
      "02/07/2022 12:45:01 - INFO - Trainer -   Saving at /home/mhmd_sabry_ab/models/Bert/model_checkpoints/bert_lr_warmup_0.4\n",
      "02/07/2022 12:45:01 - INFO - Trainer -   Saving at /home/mhmd_sabry_ab/models/Bert/model_checkpoints/bert_lr_warmup_0.4\n",
      "epoch=3/ 6\n",
      "Itr=0, loss=0.6017287373542786\n",
      "Itr=50, loss=0.5620005130767822\n",
      "Itr=100, loss=0.6590498685836792\n",
      "Itr=150, loss=0.7293915152549744\n",
      "Itr=200, loss=0.6390118598937988\n",
      "Itr=250, loss=0.7333130836486816\n",
      "Itr=300, loss=0.9993624687194824\n",
      "epoch=4/ 6\n",
      "Itr=0, loss=0.6056241393089294\n",
      "Itr=50, loss=0.557519257068634\n",
      "Itr=100, loss=0.6571379899978638\n",
      "Itr=150, loss=0.6574842929840088\n",
      "Itr=200, loss=0.6702165007591248\n",
      "Itr=250, loss=0.7321271300315857\n",
      "Itr=300, loss=0.9810989499092102\n",
      "epoch=5/ 6\n",
      "Itr=0, loss=0.5666491985321045\n",
      "Itr=50, loss=0.5472046136856079\n",
      "Itr=100, loss=0.6655144691467285\n",
      "Itr=150, loss=0.6634758114814758\n",
      "Itr=200, loss=0.6639028787612915\n",
      "Itr=250, loss=0.7089284658432007\n",
      "Itr=300, loss=0.9067135453224182\n",
      "epoch=6/ 6\n",
      "Itr=0, loss=0.54890376329422\n",
      "Itr=50, loss=0.5392228960990906\n",
      "Itr=100, loss=0.6417253613471985\n",
      "Itr=150, loss=0.66499263048172\n",
      "Itr=200, loss=0.6255829334259033\n",
      "Itr=250, loss=0.7416831254959106\n",
      "Itr=300, loss=0.9131954312324524\n",
      "02/07/2022 13:05:06 - INFO - Trainer -   Saving at /home/mhmd_sabry_ab/models/Bert/model_checkpoints/bert_lr_warmup_0.4\n",
      "02/07/2022 13:05:06 - INFO - Trainer -   Saving at /home/mhmd_sabry_ab/models/Bert/model_checkpoints/bert_lr_warmup_0.4\n",
      "02/07/2022 13:05:06 - INFO - Trainer -   Saving at /home/mhmd_sabry_ab/models/Bert/model_checkpoints/bert_lr_warmup_0.4\n",
      "02/07/2022 13:05:06 - INFO - Trainer -   Saving at /home/mhmd_sabry_ab/models/Bert/model_checkpoints/bert_lr_warmup_0.4\n",
      "02/07/2022 13:05:06 - INFO - Trainer -   Saving at /home/mhmd_sabry_ab/models/Bert/model_checkpoints/bert_lr_warmup_0.4\n",
      "02/07/2022 13:05:06 - INFO - Trainer -   Saving at /home/mhmd_sabry_ab/models/Bert/model_checkpoints/bert_lr_warmup_0.4\n",
      "02/07/2022 13:05:06 - INFO - Trainer -   Saving at /home/mhmd_sabry_ab/models/Bert/model_checkpoints/bert_lr_warmup_0.4\n",
      "02/07/2022 13:05:06 - INFO - Trainer -   Saving at /home/mhmd_sabry_ab/models/Bert/model_checkpoints/bert_lr_warmup_0.4\n"
     ]
    }
   ],
   "source": [
    "!python train.py -c bert_config.ini"
   ]
  },
  {
   "cell_type": "markdown",
   "id": "9cc8dbe8",
   "metadata": {},
   "source": [
    "02/07/2022 12:34:16 - INFO - DTI_model -   number of all parameters: 1.242409e+08\n",
    "\n",
    "02/07/2022 12:34:16 - INFO - DTI_model -   number of  trainable parameters: 1.519027e+07"
   ]
  },
  {
   "cell_type": "markdown",
   "id": "78e63649",
   "metadata": {},
   "source": [
    "### Learning_Curve:"
   ]
  },
  {
   "cell_type": "code",
   "execution_count": 6,
   "id": "5c47a593",
   "metadata": {},
   "outputs": [
    {
     "data": {
      "image/png": "[encoded data removed]",
      "text/plain": [
       "<Figure size 432x288 with 1 Axes>"
      ]
     },
     "metadata": {
      "needs_background": "light"
     },
     "output_type": "display_data"
    }
   ],
   "source": [
    "import utils\n",
    "from utils import plot_learning_curve\n",
    "train_state_path = '/home/mhmd_sabry_ab/models/Bert/model_checkpoints/bert_lr_warmup_0.4_6epoch_train_state.json'\n",
    "saving_path = '/home/mhmd_sabry_ab/models/Bert/model_checkpoints/bert_lr_warmup_0.4_6epoch'\n",
    "plot_learning_curve(train_state_path,saving_path)"
   ]
  },
  {
   "cell_type": "markdown",
   "id": "03dc5f12",
   "metadata": {},
   "source": [
    "### Testset Metrics:"
   ]
  },
  {
   "cell_type": "code",
   "execution_count": 7,
   "id": "e48e2066",
   "metadata": {},
   "outputs": [
    {
     "name": "stdout",
     "output_type": "stream",
     "text": [
      "Read /home/mhmd_sabry_ab/data/kiba/ start\n",
      "Reading /home/mhmd_sabry_ab/data/kiba/ start\n",
      "Start Pairing: 100%|████████████████| 118254/118254 [00:01<00:00, 101343.56it/s]\n",
      "Some weights of the model checkpoint at bert-base-uncased were not used when initializing BertModel: ['cls.predictions.transform.dense.weight', 'cls.seq_relationship.weight', 'cls.predictions.decoder.weight', 'cls.predictions.bias', 'cls.predictions.transform.LayerNorm.weight', 'cls.seq_relationship.bias', 'cls.predictions.transform.LayerNorm.bias', 'cls.predictions.transform.dense.bias']\n",
      "- This IS expected if you are initializing BertModel from the checkpoint of a model trained on another task or with another architecture (e.g. initializing a BertForSequenceClassification model from a BertForPreTraining model).\n",
      "- This IS NOT expected if you are initializing BertModel from the checkpoint of a model that you expect to be exactly identical (initializing a BertForSequenceClassification model from a BertForSequenceClassification model).\n",
      "CI:0.5781242724605965 , MSE:0.6520842100892749 , AUPR:0.5434253246753247\n"
     ]
    }
   ],
   "source": [
    "!python test.py -c bert_config.ini"
   ]
  },
  {
   "cell_type": "code",
   "execution_count": null,
   "id": "20119546",
   "metadata": {},
   "outputs": [],
   "source": []
  }
 ],
 "metadata": {
  "kernelspec": {
   "display_name": "Python [conda env:root] *",
   "language": "python",
   "name": "conda-root-py"
  },
  "language_info": {
   "codemirror_mode": {
    "name": "ipython",
    "version": 3
   },
   "file_extension": ".py",
   "mimetype": "text/x-python",
   "name": "python",
   "nbconvert_exporter": "python",
   "pygments_lexer": "ipython3",
   "version": "3.7.12"
  }
 },
 "nbformat": 4,
 "nbformat_minor": 5
}

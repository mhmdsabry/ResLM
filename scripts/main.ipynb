{
 "cells": [
  {
   "cell_type": "markdown",
   "id": "8631b526",
   "metadata": {},
   "source": [
    "### Train:"
   ]
  },
  {
   "cell_type": "code",
   "execution_count": 41,
   "id": "62d8c427",
   "metadata": {
    "scrolled": true
   },
   "outputs": [
    {
     "name": "stdout",
     "output_type": "stream",
     "text": [
      "Read /home/mhmd_sabry_ab/data/kiba/ start\n",
      "Reading /home/mhmd_sabry_ab/data/kiba/ start\n",
      "Start Pairing: 100%|█████████████████| 118254/118254 [00:02<00:00, 54657.71it/s]\n",
      "Some weights of the model checkpoint at bert-base-uncased were not used when initializing BertModel: ['cls.seq_relationship.bias', 'cls.predictions.transform.LayerNorm.bias', 'cls.predictions.transform.LayerNorm.weight', 'cls.seq_relationship.weight', 'cls.predictions.transform.dense.bias', 'cls.predictions.decoder.weight', 'cls.predictions.bias', 'cls.predictions.transform.dense.weight']\n",
      "- This IS expected if you are initializing BertModel from the checkpoint of a model trained on another task or with another architecture (e.g. initializing a BertForSequenceClassification model from a BertForPreTraining model).\n",
      "- This IS NOT expected if you are initializing BertModel from the checkpoint of a model that you expect to be exactly identical (initializing a BertForSequenceClassification model from a BertForSequenceClassification model).\n",
      "02/07/2022 19:39:16 - INFO - DTI_model -   number of all parameters: 1.128556e+08\n",
      "02/07/2022 19:39:16 - INFO - DTI_model -   number of  trainable parameters: 3.804932e+06\n",
      "epoch=1/ 6\n",
      "Itr=0, loss=125.303466796875\n",
      "Itr=50, loss=58.449317932128906\n",
      "Itr=100, loss=1.3986592292785645\n",
      "Itr=150, loss=1.4257875680923462\n",
      "Itr=200, loss=0.9218514561653137\n",
      "Itr=250, loss=1.023223638534546\n",
      "Itr=300, loss=1.0632240772247314\n",
      "02/07/2022 19:45:03 - INFO - Trainer -   Saving at /home/mhmd_sabry_ab/models/Bert/model_checkpoints/bert_lr_warmup_0.4_rnn_enabled\n",
      "02/07/2022 19:45:03 - INFO - Trainer -   Saving at /home/mhmd_sabry_ab/models/Bert/model_checkpoints/bert_lr_warmup_0.4_rnn_enabled\n",
      "02/07/2022 19:45:03 - INFO - Trainer -   Saving at /home/mhmd_sabry_ab/models/Bert/model_checkpoints/bert_lr_warmup_0.4_rnn_enabled\n",
      "02/07/2022 19:45:03 - INFO - Trainer -   Saving at /home/mhmd_sabry_ab/models/Bert/model_checkpoints/bert_lr_warmup_0.4_rnn_enabled\n",
      "02/07/2022 19:45:03 - INFO - Trainer -   Saving at /home/mhmd_sabry_ab/models/Bert/model_checkpoints/bert_lr_warmup_0.4_rnn_enabled\n",
      "02/07/2022 19:45:03 - INFO - Trainer -   Saving at /home/mhmd_sabry_ab/models/Bert/model_checkpoints/bert_lr_warmup_0.4_rnn_enabled\n",
      "02/07/2022 19:45:03 - INFO - Trainer -   Saving at /home/mhmd_sabry_ab/models/Bert/model_checkpoints/bert_lr_warmup_0.4_rnn_enabled\n",
      "02/07/2022 19:45:03 - INFO - Trainer -   Saving at /home/mhmd_sabry_ab/models/Bert/model_checkpoints/bert_lr_warmup_0.4_rnn_enabled\n",
      "epoch=2/ 6\n",
      "Itr=0, loss=0.6772646903991699\n",
      "Itr=50, loss=0.6284921169281006\n",
      "Itr=100, loss=0.7148930430412292\n",
      "Itr=150, loss=0.7308841943740845\n",
      "Itr=200, loss=0.6916291117668152\n",
      "Itr=250, loss=0.7854791879653931\n",
      "Itr=300, loss=1.0328911542892456\n",
      "epoch=3/ 6\n",
      "Itr=0, loss=0.6409504413604736\n",
      "Itr=50, loss=0.5771033763885498\n",
      "Itr=100, loss=0.6402660012245178\n",
      "Itr=150, loss=0.6634228825569153\n",
      "Itr=200, loss=0.6736835241317749\n",
      "Itr=250, loss=0.7424625158309937\n",
      "Itr=300, loss=0.9897085428237915\n",
      "epoch=4/ 6\n",
      "Itr=0, loss=0.5820887684822083\n",
      "Itr=50, loss=0.5628764629364014\n",
      "Itr=100, loss=0.6417441368103027\n",
      "Itr=150, loss=0.6512683033943176\n",
      "Itr=200, loss=0.6536228060722351\n",
      "Itr=250, loss=0.7291920781135559\n",
      "Itr=300, loss=0.9835423231124878\n",
      "epoch=5/ 6\n",
      "Itr=0, loss=0.5847770571708679\n",
      "Itr=50, loss=0.5242621898651123\n",
      "Itr=100, loss=0.6471129059791565\n",
      "Itr=150, loss=0.662534236907959\n",
      "Itr=200, loss=0.6321285963058472\n",
      "Itr=250, loss=0.7396979331970215\n",
      "Itr=300, loss=0.8966052532196045\n",
      "02/07/2022 20:03:35 - INFO - Trainer -   Saving at /home/mhmd_sabry_ab/models/Bert/model_checkpoints/bert_lr_warmup_0.4_rnn_enabled\n",
      "02/07/2022 20:03:35 - INFO - Trainer -   Saving at /home/mhmd_sabry_ab/models/Bert/model_checkpoints/bert_lr_warmup_0.4_rnn_enabled\n",
      "02/07/2022 20:03:35 - INFO - Trainer -   Saving at /home/mhmd_sabry_ab/models/Bert/model_checkpoints/bert_lr_warmup_0.4_rnn_enabled\n",
      "02/07/2022 20:03:35 - INFO - Trainer -   Saving at /home/mhmd_sabry_ab/models/Bert/model_checkpoints/bert_lr_warmup_0.4_rnn_enabled\n",
      "02/07/2022 20:03:35 - INFO - Trainer -   Saving at /home/mhmd_sabry_ab/models/Bert/model_checkpoints/bert_lr_warmup_0.4_rnn_enabled\n",
      "02/07/2022 20:03:35 - INFO - Trainer -   Saving at /home/mhmd_sabry_ab/models/Bert/model_checkpoints/bert_lr_warmup_0.4_rnn_enabled\n",
      "02/07/2022 20:03:35 - INFO - Trainer -   Saving at /home/mhmd_sabry_ab/models/Bert/model_checkpoints/bert_lr_warmup_0.4_rnn_enabled\n",
      "02/07/2022 20:03:35 - INFO - Trainer -   Saving at /home/mhmd_sabry_ab/models/Bert/model_checkpoints/bert_lr_warmup_0.4_rnn_enabled\n",
      "epoch=6/ 6\n",
      "Itr=0, loss=0.542565643787384\n",
      "Itr=50, loss=0.548011302947998\n",
      "Itr=100, loss=0.6489574909210205\n",
      "Itr=150, loss=0.6359245181083679\n",
      "Itr=200, loss=0.6297032237052917\n",
      "Itr=250, loss=0.7485489845275879\n",
      "Itr=300, loss=0.9070695042610168\n",
      "02/07/2022 20:08:28 - INFO - Trainer -   Saving at /home/mhmd_sabry_ab/models/Bert/model_checkpoints/bert_lr_warmup_0.4_rnn_enabled\n",
      "02/07/2022 20:08:28 - INFO - Trainer -   Saving at /home/mhmd_sabry_ab/models/Bert/model_checkpoints/bert_lr_warmup_0.4_rnn_enabled\n",
      "02/07/2022 20:08:28 - INFO - Trainer -   Saving at /home/mhmd_sabry_ab/models/Bert/model_checkpoints/bert_lr_warmup_0.4_rnn_enabled\n",
      "02/07/2022 20:08:28 - INFO - Trainer -   Saving at /home/mhmd_sabry_ab/models/Bert/model_checkpoints/bert_lr_warmup_0.4_rnn_enabled\n",
      "02/07/2022 20:08:28 - INFO - Trainer -   Saving at /home/mhmd_sabry_ab/models/Bert/model_checkpoints/bert_lr_warmup_0.4_rnn_enabled\n",
      "02/07/2022 20:08:28 - INFO - Trainer -   Saving at /home/mhmd_sabry_ab/models/Bert/model_checkpoints/bert_lr_warmup_0.4_rnn_enabled\n",
      "02/07/2022 20:08:28 - INFO - Trainer -   Saving at /home/mhmd_sabry_ab/models/Bert/model_checkpoints/bert_lr_warmup_0.4_rnn_enabled\n",
      "02/07/2022 20:08:28 - INFO - Trainer -   Saving at /home/mhmd_sabry_ab/models/Bert/model_checkpoints/bert_lr_warmup_0.4_rnn_enabled\n"
     ]
    }
   ],
   "source": [
    "!python train.py -c bert_config.ini"
   ]
  },
  {
   "cell_type": "markdown",
   "id": "799afcdd",
   "metadata": {},
   "source": [
    "### Querying Block: Conv1d\n",
    "* 02/07/2022 12:34:16 - INFO - DTI_model -   number of all parameters: 1.242409e+08\n",
    "* 02/07/2022 12:34:16 - INFO - DTI_model -   number of  trainable parameters: 1.519027e+07\n",
    "\n",
    "### Querying Block: RNN without read and write layers\n",
    "* 02/07/2022 18:46:34 - INFO - DTI_model -   number of all parameters: 1.128371e+08\n",
    "* 02/07/2022 18:46:34 - INFO - DTI_model -   number of  trainable parameters: 3.786496e+06\n",
    "\n",
    "### Querying Block: RNN with read and write layers\n",
    "* 02/07/2022 19:39:16 - INFO - DTI_model -   number of all parameters: 1.128556e+08\n",
    "* 02/07/2022 19:39:16 - INFO - DTI_model -   number of  trainable parameters: 3.804932e+06"
   ]
  },
  {
   "cell_type": "markdown",
   "id": "78e63649",
   "metadata": {},
   "source": [
    "### Learning_Curve:"
   ]
  },
  {
   "cell_type": "code",
   "execution_count": 42,
   "id": "5c47a593",
   "metadata": {},
   "outputs": [
    {
     "data": {
      "image/png": "[encoded data removed]",
      "text/plain": [
       "<Figure size 432x288 with 1 Axes>"
      ]
     },
     "metadata": {
      "needs_background": "light"
     },
     "output_type": "display_data"
    }
   ],
   "source": [
    "import utils\n",
    "from utils import plot_learning_curve\n",
    "train_state_path = '/home/mhmd_sabry_ab/models/Bert/model_checkpoints/bert_lr_warmup_0.4_rnn_enabled_6epoch_train_state.json'\n",
    "saving_path = '/home/mhmd_sabry_ab/models/Bert/model_checkpoints/bert_lr_warmup_0.4_rnn_enabled_6epoch'\n",
    "plot_learning_curve(train_state_path,saving_path)"
   ]
  },
  {
   "cell_type": "markdown",
   "id": "03dc5f12",
   "metadata": {},
   "source": [
    "### Testset Metrics:"
   ]
  },
  {
   "cell_type": "code",
   "execution_count": 43,
   "id": "e48e2066",
   "metadata": {},
   "outputs": [
    {
     "name": "stdout",
     "output_type": "stream",
     "text": [
      "Read /home/mhmd_sabry_ab/data/kiba/ start\n",
      "Reading /home/mhmd_sabry_ab/data/kiba/ start\n",
      "Start Pairing: 100%|████████████████| 118254/118254 [00:01<00:00, 109536.21it/s]\n",
      "Some weights of the model checkpoint at bert-base-uncased were not used when initializing BertModel: ['cls.predictions.bias', 'cls.predictions.transform.LayerNorm.bias', 'cls.predictions.decoder.weight', 'cls.seq_relationship.bias', 'cls.predictions.transform.dense.weight', 'cls.predictions.transform.LayerNorm.weight', 'cls.predictions.transform.dense.bias', 'cls.seq_relationship.weight']\n",
      "- This IS expected if you are initializing BertModel from the checkpoint of a model trained on another task or with another architecture (e.g. initializing a BertForSequenceClassification model from a BertForPreTraining model).\n",
      "- This IS NOT expected if you are initializing BertModel from the checkpoint of a model that you expect to be exactly identical (initializing a BertForSequenceClassification model from a BertForSequenceClassification model).\n",
      "CI:0.5658481363350639 , MSE:0.6408240665476044 , AUPR:0.5434253246753247\n"
     ]
    }
   ],
   "source": [
    "!python test.py -c bert_config.ini"
   ]
  },
  {
   "cell_type": "code",
   "execution_count": null,
   "id": "20119546",
   "metadata": {},
   "outputs": [],
   "source": []
  }
 ],
 "metadata": {
  "kernelspec": {
   "display_name": "Python [conda env:root] *",
   "language": "python",
   "name": "conda-root-py"
  },
  "language_info": {
   "codemirror_mode": {
    "name": "ipython",
    "version": 3
   },
   "file_extension": ".py",
   "mimetype": "text/x-python",
   "name": "python",
   "nbconvert_exporter": "python",
   "pygments_lexer": "ipython3",
   "version": "3.7.12"
  }
 },
 "nbformat": 4,
 "nbformat_minor": 5
}

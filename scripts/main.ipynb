{
 "cells": [
  {
   "cell_type": "markdown",
   "id": "8631b526",
   "metadata": {},
   "source": [
    "### Train:"
   ]
  },
  {
   "cell_type": "code",
   "execution_count": 66,
   "id": "62d8c427",
   "metadata": {
    "scrolled": true
   },
   "outputs": [
    {
     "name": "stdout",
     "output_type": "stream",
     "text": [
      "Read /home/mhmd_sabry_ab/data/kiba/ start\n",
      "Reading /home/mhmd_sabry_ab/data/kiba/ start\n",
      "Start Pairing: 100%|█████████████████| 118254/118254 [00:02<00:00, 47368.58it/s]\n",
      "Some weights of the model checkpoint at bert-base-uncased were not used when initializing BertModel: ['cls.seq_relationship.weight', 'cls.predictions.transform.dense.bias', 'cls.seq_relationship.bias', 'cls.predictions.transform.LayerNorm.weight', 'cls.predictions.bias', 'cls.predictions.decoder.weight', 'cls.predictions.transform.LayerNorm.bias', 'cls.predictions.transform.dense.weight']\n",
      "- This IS expected if you are initializing BertModel from the checkpoint of a model trained on another task or with another architecture (e.g. initializing a BertForSequenceClassification model from a BertForPreTraining model).\n",
      "- This IS NOT expected if you are initializing BertModel from the checkpoint of a model that you expect to be exactly identical (initializing a BertForSequenceClassification model from a BertForSequenceClassification model).\n",
      "02/08/2022 09:12:48 - INFO - DTI_model -   number of all parameters: 1.140367e+08\n",
      "02/08/2022 09:12:48 - INFO - DTI_model -   number of  trainable parameters: 4.986116e+06\n",
      "epoch=1/ 6\n",
      "Itr=0, loss=120.40617370605469\n",
      "Itr=50, loss=13.217254638671875\n",
      "Itr=100, loss=0.6386964917182922\n",
      "Itr=150, loss=0.6415588855743408\n",
      "Itr=200, loss=0.6219676733016968\n",
      "Itr=250, loss=0.6716453433036804\n",
      "Itr=300, loss=0.8290280103683472\n",
      "02/08/2022 09:17:45 - INFO - Trainer -   Saving at /home/mhmd_sabry_ab/models/Bert/model_checkpoints/bert_lr3e4_warmup_std002_0.4_2rnn_enabled\n",
      "02/08/2022 09:17:45 - INFO - Trainer -   Saving at /home/mhmd_sabry_ab/models/Bert/model_checkpoints/bert_lr3e4_warmup_std002_0.4_2rnn_enabled\n",
      "02/08/2022 09:17:45 - INFO - Trainer -   Saving at /home/mhmd_sabry_ab/models/Bert/model_checkpoints/bert_lr3e4_warmup_std002_0.4_2rnn_enabled\n",
      "02/08/2022 09:17:45 - INFO - Trainer -   Saving at /home/mhmd_sabry_ab/models/Bert/model_checkpoints/bert_lr3e4_warmup_std002_0.4_2rnn_enabled\n",
      "02/08/2022 09:17:45 - INFO - Trainer -   Saving at /home/mhmd_sabry_ab/models/Bert/model_checkpoints/bert_lr3e4_warmup_std002_0.4_2rnn_enabled\n",
      "02/08/2022 09:17:45 - INFO - Trainer -   Saving at /home/mhmd_sabry_ab/models/Bert/model_checkpoints/bert_lr3e4_warmup_std002_0.4_2rnn_enabled\n",
      "02/08/2022 09:17:45 - INFO - Trainer -   Saving at /home/mhmd_sabry_ab/models/Bert/model_checkpoints/bert_lr3e4_warmup_std002_0.4_2rnn_enabled\n",
      "02/08/2022 09:17:45 - INFO - Trainer -   Saving at /home/mhmd_sabry_ab/models/Bert/model_checkpoints/bert_lr3e4_warmup_std002_0.4_2rnn_enabled\n",
      "epoch=2/ 6\n",
      "Itr=0, loss=0.5146190524101257\n",
      "Itr=50, loss=0.4674408733844757\n",
      "Itr=100, loss=0.5244855880737305\n",
      "Itr=150, loss=0.5984573364257812\n",
      "Itr=200, loss=0.5797740817070007\n",
      "Itr=250, loss=0.6773425340652466\n",
      "Itr=300, loss=0.7689037322998047\n",
      "epoch=3/ 6\n",
      "Itr=0, loss=0.44018611311912537\n",
      "Itr=50, loss=0.46166130900382996\n",
      "Itr=100, loss=0.5179305076599121\n",
      "Itr=150, loss=0.5584806203842163\n",
      "Itr=200, loss=0.5855315327644348\n",
      "Itr=250, loss=0.612246036529541\n",
      "Itr=300, loss=0.7103455066680908\n",
      "02/08/2022 09:27:00 - INFO - Trainer -   Saving at /home/mhmd_sabry_ab/models/Bert/model_checkpoints/bert_lr3e4_warmup_std002_0.4_2rnn_enabled\n",
      "02/08/2022 09:27:00 - INFO - Trainer -   Saving at /home/mhmd_sabry_ab/models/Bert/model_checkpoints/bert_lr3e4_warmup_std002_0.4_2rnn_enabled\n",
      "02/08/2022 09:27:00 - INFO - Trainer -   Saving at /home/mhmd_sabry_ab/models/Bert/model_checkpoints/bert_lr3e4_warmup_std002_0.4_2rnn_enabled\n",
      "02/08/2022 09:27:00 - INFO - Trainer -   Saving at /home/mhmd_sabry_ab/models/Bert/model_checkpoints/bert_lr3e4_warmup_std002_0.4_2rnn_enabled\n",
      "02/08/2022 09:27:00 - INFO - Trainer -   Saving at /home/mhmd_sabry_ab/models/Bert/model_checkpoints/bert_lr3e4_warmup_std002_0.4_2rnn_enabled\n",
      "02/08/2022 09:27:00 - INFO - Trainer -   Saving at /home/mhmd_sabry_ab/models/Bert/model_checkpoints/bert_lr3e4_warmup_std002_0.4_2rnn_enabled\n",
      "02/08/2022 09:27:00 - INFO - Trainer -   Saving at /home/mhmd_sabry_ab/models/Bert/model_checkpoints/bert_lr3e4_warmup_std002_0.4_2rnn_enabled\n",
      "02/08/2022 09:27:00 - INFO - Trainer -   Saving at /home/mhmd_sabry_ab/models/Bert/model_checkpoints/bert_lr3e4_warmup_std002_0.4_2rnn_enabled\n",
      "epoch=4/ 6\n",
      "Itr=0, loss=0.46985501050949097\n",
      "Itr=50, loss=0.4391970634460449\n",
      "Itr=100, loss=0.474230021238327\n",
      "Itr=150, loss=0.5297517776489258\n",
      "Itr=200, loss=0.5207738876342773\n",
      "Itr=250, loss=0.5808223485946655\n",
      "Itr=300, loss=0.695276141166687\n",
      "epoch=5/ 6\n",
      "Itr=0, loss=0.4140799641609192\n",
      "Itr=50, loss=0.4015359878540039\n",
      "Itr=100, loss=0.46015167236328125\n",
      "Itr=150, loss=0.5102253556251526\n",
      "Itr=200, loss=0.48216837644577026\n",
      "Itr=250, loss=0.5130702257156372\n",
      "Itr=300, loss=0.6111640334129333\n",
      "epoch=6/ 6\n",
      "Itr=0, loss=0.4056849479675293\n",
      "Itr=50, loss=0.389183908700943\n",
      "Itr=100, loss=0.4069640338420868\n",
      "Itr=150, loss=0.4921550452709198\n",
      "Itr=200, loss=0.4559023082256317\n",
      "Itr=250, loss=0.4779798984527588\n",
      "Itr=300, loss=0.5629424452781677\n"
     ]
    }
   ],
   "source": [
    "!python train.py -c bert_config.ini"
   ]
  },
  {
   "cell_type": "markdown",
   "id": "8fd3ecb6",
   "metadata": {},
   "source": [
    "### Querying Block: Conv1d\n",
    "* 02/07/2022 12:34:16 - INFO - DTI_model -   number of all parameters: 1.242409e+08\n",
    "* 02/07/2022 12:34:16 - INFO - DTI_model -   number of  trainable parameters: 1.519027e+07\n",
    "\n",
    "### Querying Block: 1-RNN without read and write layers\n",
    "* 02/07/2022 18:46:34 - INFO - DTI_model -   number of all parameters: 1.128371e+08\n",
    "* 02/07/2022 18:46:34 - INFO - DTI_model -   number of  trainable parameters: 3.786496e+06\n",
    "\n",
    "### Querying Block: 1-RNN with read and write layers\n",
    "* 02/07/2022 19:39:16 - INFO - DTI_model -   number of all parameters: 1.128556e+08\n",
    "* 02/07/2022 19:39:16 - INFO - DTI_model -   number of  trainable parameters: 3.804932e+06\n",
    "\n",
    "### Querying Block: 2-RNN with read and write layers\n",
    "* 02/07/2022 20:43:18 - INFO - DTI_model -   number of all parameters: 1.140367e+08\n",
    "* 02/07/2022 20:43:18 - INFO - DTI_model -   number of  trainable parameters: 4.986116e+06"
   ]
  },
  {
   "cell_type": "markdown",
   "id": "78e63649",
   "metadata": {},
   "source": [
    "### Learning_Curve:"
   ]
  },
  {
   "cell_type": "code",
   "execution_count": 67,
   "id": "5c47a593",
   "metadata": {},
   "outputs": [
    {
     "data": {
      "image/png": "[encoded data removed]",
      "text/plain": [
       "<Figure size 432x288 with 1 Axes>"
      ]
     },
     "metadata": {
      "needs_background": "light"
     },
     "output_type": "display_data"
    }
   ],
   "source": [
    "import utils\n",
    "from utils import plot_learning_curve\n",
    "train_state_path = '/home/mhmd_sabry_ab/models/Bert/model_checkpoints/bert_lr3e4_warmup_std002_0.4_2rnn_enabled_6epoch_train_state.json'\n",
    "saving_path = '/home/mhmd_sabry_ab/models/Bert/model_checkpoints/bert_lr3e4_warmup_std002_0.4_2rnn_enabled_6epoch'\n",
    "plot_learning_curve(train_state_path,saving_path)"
   ]
  },
  {
   "cell_type": "markdown",
   "id": "03dc5f12",
   "metadata": {},
   "source": [
    "### Testset Metrics:"
   ]
  },
  {
   "cell_type": "code",
   "execution_count": 68,
   "id": "e48e2066",
   "metadata": {},
   "outputs": [
    {
     "name": "stdout",
     "output_type": "stream",
     "text": [
      "Read /home/mhmd_sabry_ab/data/kiba/ start\n",
      "Reading /home/mhmd_sabry_ab/data/kiba/ start\n",
      "Start Pairing: 100%|████████████████| 118254/118254 [00:01<00:00, 102482.47it/s]\n",
      "Some weights of the model checkpoint at bert-base-uncased were not used when initializing BertModel: ['cls.predictions.transform.LayerNorm.bias', 'cls.seq_relationship.weight', 'cls.predictions.transform.LayerNorm.weight', 'cls.predictions.transform.dense.bias', 'cls.predictions.decoder.weight', 'cls.seq_relationship.bias', 'cls.predictions.bias', 'cls.predictions.transform.dense.weight']\n",
      "- This IS expected if you are initializing BertModel from the checkpoint of a model trained on another task or with another architecture (e.g. initializing a BertForSequenceClassification model from a BertForPreTraining model).\n",
      "- This IS NOT expected if you are initializing BertModel from the checkpoint of a model that you expect to be exactly identical (initializing a BertForSequenceClassification model from a BertForSequenceClassification model).\n",
      "CI:0.7338860935208251 , MSE:0.578518784278399 , AUPR:0.36751534726039947\n"
     ]
    }
   ],
   "source": [
    "!python test.py -c bert_config.ini"
   ]
  },
  {
   "cell_type": "code",
   "execution_count": null,
   "id": "20119546",
   "metadata": {},
   "outputs": [],
   "source": []
  }
 ],
 "metadata": {
  "kernelspec": {
   "display_name": "Python [conda env:root] *",
   "language": "python",
   "name": "conda-root-py"
  },
  "language_info": {
   "codemirror_mode": {
    "name": "ipython",
    "version": 3
   },
   "file_extension": ".py",
   "mimetype": "text/x-python",
   "name": "python",
   "nbconvert_exporter": "python",
   "pygments_lexer": "ipython3",
   "version": "3.7.12"
  }
 },
 "nbformat": 4,
 "nbformat_minor": 5
}

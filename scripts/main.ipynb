{
 "cells": [
  {
   "cell_type": "markdown",
   "id": "8631b526",
   "metadata": {},
   "source": [
    "### Train:"
   ]
  },
  {
   "cell_type": "code",
   "execution_count": 53,
   "id": "62d8c427",
   "metadata": {
    "scrolled": true
   },
   "outputs": [
    {
     "name": "stdout",
     "output_type": "stream",
     "text": [
      "Read /home/mhmd_sabry_ab/data/kiba/ start\n",
      "Reading /home/mhmd_sabry_ab/data/kiba/ start\n",
      "Start Pairing: 100%|████████████████| 118254/118254 [00:01<00:00, 110109.87it/s]\n",
      "Some weights of the model checkpoint at bert-base-uncased were not used when initializing BertModel: ['cls.predictions.transform.LayerNorm.bias', 'cls.predictions.transform.dense.bias', 'cls.predictions.transform.LayerNorm.weight', 'cls.predictions.decoder.weight', 'cls.predictions.transform.dense.weight', 'cls.seq_relationship.bias', 'cls.seq_relationship.weight', 'cls.predictions.bias']\n",
      "- This IS expected if you are initializing BertModel from the checkpoint of a model trained on another task or with another architecture (e.g. initializing a BertForSequenceClassification model from a BertForPreTraining model).\n",
      "- This IS NOT expected if you are initializing BertModel from the checkpoint of a model that you expect to be exactly identical (initializing a BertForSequenceClassification model from a BertForSequenceClassification model).\n",
      "02/07/2022 20:43:18 - INFO - DTI_model -   number of all parameters: 1.140367e+08\n",
      "02/07/2022 20:43:18 - INFO - DTI_model -   number of  trainable parameters: 4.986116e+06\n",
      "epoch=1/ 6\n",
      "Itr=0, loss=110.42489624023438\n",
      "Itr=50, loss=31.20539093017578\n",
      "Itr=100, loss=1.4432847499847412\n",
      "Itr=150, loss=1.1757155656814575\n",
      "Itr=200, loss=0.9079751968383789\n",
      "Itr=250, loss=0.9424798488616943\n",
      "Itr=300, loss=1.0860224962234497\n",
      "02/07/2022 20:49:05 - INFO - Trainer -   Saving at /home/mhmd_sabry_ab/models/Bert/model_checkpoints/bert_lr_warmup_0.4_rnn_enabled\n",
      "02/07/2022 20:49:05 - INFO - Trainer -   Saving at /home/mhmd_sabry_ab/models/Bert/model_checkpoints/bert_lr_warmup_0.4_rnn_enabled\n",
      "02/07/2022 20:49:05 - INFO - Trainer -   Saving at /home/mhmd_sabry_ab/models/Bert/model_checkpoints/bert_lr_warmup_0.4_rnn_enabled\n",
      "02/07/2022 20:49:05 - INFO - Trainer -   Saving at /home/mhmd_sabry_ab/models/Bert/model_checkpoints/bert_lr_warmup_0.4_rnn_enabled\n",
      "02/07/2022 20:49:05 - INFO - Trainer -   Saving at /home/mhmd_sabry_ab/models/Bert/model_checkpoints/bert_lr_warmup_0.4_rnn_enabled\n",
      "02/07/2022 20:49:05 - INFO - Trainer -   Saving at /home/mhmd_sabry_ab/models/Bert/model_checkpoints/bert_lr_warmup_0.4_rnn_enabled\n",
      "02/07/2022 20:49:05 - INFO - Trainer -   Saving at /home/mhmd_sabry_ab/models/Bert/model_checkpoints/bert_lr_warmup_0.4_rnn_enabled\n",
      "02/07/2022 20:49:05 - INFO - Trainer -   Saving at /home/mhmd_sabry_ab/models/Bert/model_checkpoints/bert_lr_warmup_0.4_rnn_enabled\n",
      "epoch=2/ 6\n",
      "Itr=0, loss=0.678651750087738\n",
      "Itr=50, loss=0.7657349109649658\n",
      "Itr=100, loss=0.7646417021751404\n",
      "Itr=150, loss=0.7330819368362427\n",
      "Itr=200, loss=0.6939428448677063\n",
      "Itr=250, loss=0.739374041557312\n",
      "Itr=300, loss=0.9889614582061768\n",
      "02/07/2022 20:53:45 - INFO - Trainer -   Saving at /home/mhmd_sabry_ab/models/Bert/model_checkpoints/bert_lr_warmup_0.4_rnn_enabled\n",
      "02/07/2022 20:53:45 - INFO - Trainer -   Saving at /home/mhmd_sabry_ab/models/Bert/model_checkpoints/bert_lr_warmup_0.4_rnn_enabled\n",
      "02/07/2022 20:53:45 - INFO - Trainer -   Saving at /home/mhmd_sabry_ab/models/Bert/model_checkpoints/bert_lr_warmup_0.4_rnn_enabled\n",
      "02/07/2022 20:53:45 - INFO - Trainer -   Saving at /home/mhmd_sabry_ab/models/Bert/model_checkpoints/bert_lr_warmup_0.4_rnn_enabled\n",
      "02/07/2022 20:53:45 - INFO - Trainer -   Saving at /home/mhmd_sabry_ab/models/Bert/model_checkpoints/bert_lr_warmup_0.4_rnn_enabled\n",
      "02/07/2022 20:53:45 - INFO - Trainer -   Saving at /home/mhmd_sabry_ab/models/Bert/model_checkpoints/bert_lr_warmup_0.4_rnn_enabled\n",
      "02/07/2022 20:53:45 - INFO - Trainer -   Saving at /home/mhmd_sabry_ab/models/Bert/model_checkpoints/bert_lr_warmup_0.4_rnn_enabled\n",
      "02/07/2022 20:53:45 - INFO - Trainer -   Saving at /home/mhmd_sabry_ab/models/Bert/model_checkpoints/bert_lr_warmup_0.4_rnn_enabled\n",
      "epoch=3/ 6\n",
      "Itr=0, loss=0.6383532285690308\n",
      "Itr=50, loss=0.5417966842651367\n",
      "Itr=100, loss=0.6981344819068909\n",
      "Itr=150, loss=0.6655088663101196\n",
      "Itr=200, loss=0.6274633407592773\n",
      "Itr=250, loss=0.753182053565979\n",
      "Itr=300, loss=0.929090678691864\n",
      "02/07/2022 20:58:40 - INFO - Trainer -   Saving at /home/mhmd_sabry_ab/models/Bert/model_checkpoints/bert_lr_warmup_0.4_rnn_enabled\n",
      "02/07/2022 20:58:40 - INFO - Trainer -   Saving at /home/mhmd_sabry_ab/models/Bert/model_checkpoints/bert_lr_warmup_0.4_rnn_enabled\n",
      "02/07/2022 20:58:40 - INFO - Trainer -   Saving at /home/mhmd_sabry_ab/models/Bert/model_checkpoints/bert_lr_warmup_0.4_rnn_enabled\n",
      "02/07/2022 20:58:40 - INFO - Trainer -   Saving at /home/mhmd_sabry_ab/models/Bert/model_checkpoints/bert_lr_warmup_0.4_rnn_enabled\n",
      "02/07/2022 20:58:40 - INFO - Trainer -   Saving at /home/mhmd_sabry_ab/models/Bert/model_checkpoints/bert_lr_warmup_0.4_rnn_enabled\n",
      "02/07/2022 20:58:40 - INFO - Trainer -   Saving at /home/mhmd_sabry_ab/models/Bert/model_checkpoints/bert_lr_warmup_0.4_rnn_enabled\n",
      "02/07/2022 20:58:40 - INFO - Trainer -   Saving at /home/mhmd_sabry_ab/models/Bert/model_checkpoints/bert_lr_warmup_0.4_rnn_enabled\n",
      "02/07/2022 20:58:40 - INFO - Trainer -   Saving at /home/mhmd_sabry_ab/models/Bert/model_checkpoints/bert_lr_warmup_0.4_rnn_enabled\n",
      "epoch=4/ 6\n",
      "Itr=0, loss=0.5822879076004028\n",
      "Itr=50, loss=0.5589348673820496\n",
      "Itr=100, loss=0.6424266695976257\n",
      "Itr=150, loss=0.6655030250549316\n",
      "Itr=200, loss=0.6517486572265625\n",
      "Itr=250, loss=0.724170446395874\n",
      "Itr=300, loss=1.0007152557373047\n",
      "epoch=5/ 6\n",
      "Itr=0, loss=0.6013542413711548\n",
      "Itr=50, loss=0.5551174283027649\n",
      "Itr=100, loss=0.6638925075531006\n",
      "Itr=150, loss=0.665325403213501\n",
      "Itr=200, loss=0.6350727081298828\n",
      "Itr=250, loss=0.730567991733551\n",
      "Itr=300, loss=0.9015083909034729\n",
      "02/07/2022 21:07:55 - INFO - Trainer -   Saving at /home/mhmd_sabry_ab/models/Bert/model_checkpoints/bert_lr_warmup_0.4_rnn_enabled\n",
      "02/07/2022 21:07:55 - INFO - Trainer -   Saving at /home/mhmd_sabry_ab/models/Bert/model_checkpoints/bert_lr_warmup_0.4_rnn_enabled\n",
      "02/07/2022 21:07:55 - INFO - Trainer -   Saving at /home/mhmd_sabry_ab/models/Bert/model_checkpoints/bert_lr_warmup_0.4_rnn_enabled\n",
      "02/07/2022 21:07:55 - INFO - Trainer -   Saving at /home/mhmd_sabry_ab/models/Bert/model_checkpoints/bert_lr_warmup_0.4_rnn_enabled\n",
      "02/07/2022 21:07:55 - INFO - Trainer -   Saving at /home/mhmd_sabry_ab/models/Bert/model_checkpoints/bert_lr_warmup_0.4_rnn_enabled\n",
      "02/07/2022 21:07:55 - INFO - Trainer -   Saving at /home/mhmd_sabry_ab/models/Bert/model_checkpoints/bert_lr_warmup_0.4_rnn_enabled\n",
      "02/07/2022 21:07:55 - INFO - Trainer -   Saving at /home/mhmd_sabry_ab/models/Bert/model_checkpoints/bert_lr_warmup_0.4_rnn_enabled\n",
      "02/07/2022 21:07:55 - INFO - Trainer -   Saving at /home/mhmd_sabry_ab/models/Bert/model_checkpoints/bert_lr_warmup_0.4_rnn_enabled\n",
      "epoch=6/ 6\n",
      "Itr=0, loss=0.5432212948799133\n",
      "Itr=50, loss=0.5552383065223694\n",
      "Itr=100, loss=0.650084912776947\n",
      "Itr=150, loss=0.6537666916847229\n",
      "Itr=200, loss=0.6254123449325562\n",
      "Itr=250, loss=0.7373349666595459\n",
      "Itr=300, loss=0.893901526927948\n",
      "02/07/2022 21:12:49 - INFO - Trainer -   Saving at /home/mhmd_sabry_ab/models/Bert/model_checkpoints/bert_lr_warmup_0.4_rnn_enabled\n",
      "02/07/2022 21:12:49 - INFO - Trainer -   Saving at /home/mhmd_sabry_ab/models/Bert/model_checkpoints/bert_lr_warmup_0.4_rnn_enabled\n",
      "02/07/2022 21:12:49 - INFO - Trainer -   Saving at /home/mhmd_sabry_ab/models/Bert/model_checkpoints/bert_lr_warmup_0.4_rnn_enabled\n",
      "02/07/2022 21:12:49 - INFO - Trainer -   Saving at /home/mhmd_sabry_ab/models/Bert/model_checkpoints/bert_lr_warmup_0.4_rnn_enabled\n",
      "02/07/2022 21:12:49 - INFO - Trainer -   Saving at /home/mhmd_sabry_ab/models/Bert/model_checkpoints/bert_lr_warmup_0.4_rnn_enabled\n",
      "02/07/2022 21:12:49 - INFO - Trainer -   Saving at /home/mhmd_sabry_ab/models/Bert/model_checkpoints/bert_lr_warmup_0.4_rnn_enabled\n",
      "02/07/2022 21:12:49 - INFO - Trainer -   Saving at /home/mhmd_sabry_ab/models/Bert/model_checkpoints/bert_lr_warmup_0.4_rnn_enabled\n",
      "02/07/2022 21:12:49 - INFO - Trainer -   Saving at /home/mhmd_sabry_ab/models/Bert/model_checkpoints/bert_lr_warmup_0.4_rnn_enabled\n"
     ]
    }
   ],
   "source": [
    "!python train.py -c bert_config.ini"
   ]
  },
  {
   "cell_type": "markdown",
   "id": "d832dea4",
   "metadata": {},
   "source": [
    "### Querying Block: Conv1d\n",
    "* 02/07/2022 12:34:16 - INFO - DTI_model -   number of all parameters: 1.242409e+08\n",
    "* 02/07/2022 12:34:16 - INFO - DTI_model -   number of  trainable parameters: 1.519027e+07\n",
    "\n",
    "### Querying Block: 1-RNN without read and write layers\n",
    "* 02/07/2022 18:46:34 - INFO - DTI_model -   number of all parameters: 1.128371e+08\n",
    "* 02/07/2022 18:46:34 - INFO - DTI_model -   number of  trainable parameters: 3.786496e+06\n",
    "\n",
    "### Querying Block: 1-RNN with read and write layers\n",
    "* 02/07/2022 19:39:16 - INFO - DTI_model -   number of all parameters: 1.128556e+08\n",
    "* 02/07/2022 19:39:16 - INFO - DTI_model -   number of  trainable parameters: 3.804932e+06\n",
    "\n",
    "### Querying Block: 2-RNN with read and write layers\n",
    "* 02/07/2022 20:43:18 - INFO - DTI_model -   number of all parameters: 1.140367e+08\n",
    "* 02/07/2022 20:43:18 - INFO - DTI_model -   number of  trainable parameters: 4.986116e+06"
   ]
  },
  {
   "cell_type": "markdown",
   "id": "78e63649",
   "metadata": {},
   "source": [
    "### Learning_Curve:"
   ]
  },
  {
   "cell_type": "code",
   "execution_count": 55,
   "id": "5c47a593",
   "metadata": {},
   "outputs": [
    {
     "data": {
      "image/png": "[encoded data removed]",
      "text/plain": [
       "<Figure size 432x288 with 1 Axes>"
      ]
     },
     "metadata": {
      "needs_background": "light"
     },
     "output_type": "display_data"
    }
   ],
   "source": [
    "import utils\n",
    "from utils import plot_learning_curve\n",
    "train_state_path = '/home/mhmd_sabry_ab/models/Bert/model_checkpoints/bert_lr_warmup_0.4_rnn_enabled_6epoch_train_state.json'\n",
    "saving_path = '/home/mhmd_sabry_ab/models/Bert/model_checkpoints/bert_lr_warmup_0.4_2rnn_enabled_6epoch'\n",
    "plot_learning_curve(train_state_path,saving_path)"
   ]
  },
  {
   "cell_type": "markdown",
   "id": "03dc5f12",
   "metadata": {},
   "source": [
    "### Testset Metrics:"
   ]
  },
  {
   "cell_type": "code",
   "execution_count": 56,
   "id": "e48e2066",
   "metadata": {},
   "outputs": [
    {
     "name": "stdout",
     "output_type": "stream",
     "text": [
      "Read /home/mhmd_sabry_ab/data/kiba/ start\n",
      "Reading /home/mhmd_sabry_ab/data/kiba/ start\n",
      "Start Pairing: 100%|████████████████| 118254/118254 [00:01<00:00, 108416.73it/s]\n",
      "Some weights of the model checkpoint at bert-base-uncased were not used when initializing BertModel: ['cls.seq_relationship.bias', 'cls.predictions.transform.LayerNorm.bias', 'cls.predictions.transform.dense.bias', 'cls.seq_relationship.weight', 'cls.predictions.transform.dense.weight', 'cls.predictions.transform.LayerNorm.weight', 'cls.predictions.decoder.weight', 'cls.predictions.bias']\n",
      "- This IS expected if you are initializing BertModel from the checkpoint of a model trained on another task or with another architecture (e.g. initializing a BertForSequenceClassification model from a BertForPreTraining model).\n",
      "- This IS NOT expected if you are initializing BertModel from the checkpoint of a model that you expect to be exactly identical (initializing a BertForSequenceClassification model from a BertForSequenceClassification model).\n",
      "CI:0.5674374461620841 , MSE:0.6255787055600773 , AUPR:0.5434253246753247\n"
     ]
    }
   ],
   "source": [
    "!python test.py -c bert_config.ini"
   ]
  },
  {
   "cell_type": "code",
   "execution_count": null,
   "id": "20119546",
   "metadata": {},
   "outputs": [],
   "source": []
  }
 ],
 "metadata": {
  "kernelspec": {
   "display_name": "Python [conda env:root] *",
   "language": "python",
   "name": "conda-root-py"
  },
  "language_info": {
   "codemirror_mode": {
    "name": "ipython",
    "version": 3
   },
   "file_extension": ".py",
   "mimetype": "text/x-python",
   "name": "python",
   "nbconvert_exporter": "python",
   "pygments_lexer": "ipython3",
   "version": "3.7.12"
  }
 },
 "nbformat": 4,
 "nbformat_minor": 5
}

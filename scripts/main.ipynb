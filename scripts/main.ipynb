{
 "cells": [
  {
   "cell_type": "markdown",
   "id": "8631b526",
   "metadata": {},
   "source": [
    "### Train:"
   ]
  },
  {
   "cell_type": "code",
   "execution_count": 1,
   "id": "86346c40",
   "metadata": {},
   "outputs": [],
   "source": [
    "%%capture\n",
    "!pip install optuna"
   ]
  },
  {
   "cell_type": "code",
   "execution_count": null,
   "id": "62d8c427",
   "metadata": {
    "scrolled": true
   },
   "outputs": [
    {
     "name": "stdout",
     "output_type": "stream",
     "text": [
      "Read /home/mhmd_sabry_ab/data/kiba/ start\n",
      "Reading /home/mhmd_sabry_ab/data/kiba/ start\n",
      "Start Pairing: 100%|████████████████| 118254/118254 [00:01<00:00, 101542.22it/s]\n",
      "Some weights of the model checkpoint at bert-base-uncased were not used when initializing BertModel: ['cls.predictions.transform.dense.bias', 'cls.predictions.decoder.weight', 'cls.seq_relationship.weight', 'cls.predictions.transform.LayerNorm.bias', 'cls.predictions.transform.dense.weight', 'cls.predictions.transform.LayerNorm.weight', 'cls.seq_relationship.bias', 'cls.predictions.bias']\n",
      "- This IS expected if you are initializing BertModel from the checkpoint of a model trained on another task or with another architecture (e.g. initializing a BertForSequenceClassification model from a BertForPreTraining model).\n",
      "- This IS NOT expected if you are initializing BertModel from the checkpoint of a model that you expect to be exactly identical (initializing a BertForSequenceClassification model from a BertForSequenceClassification model).\n",
      "03/20/2022 20:39:40 - INFO - DTI_model -   number of all parameters: 1.140367e+08\n",
      "03/20/2022 20:39:40 - INFO - DTI_model -   number of  trainable parameters: 4.986116e+06\n",
      "epoch=1/ 300\n",
      "Itr=0, loss=115.07722473144531\n",
      "Itr=50, loss=115.2818603515625\n",
      "Itr=100, loss=112.39663696289062\n",
      "Itr=150, loss=108.97184753417969\n"
     ]
    }
   ],
   "source": [
    "!python train.py -c model_configs/bert_config.ini"
   ]
  },
  {
   "cell_type": "markdown",
   "id": "9daf1a28",
   "metadata": {},
   "source": [
    "## Bert\n",
    "### Querying Block: Conv1d\n",
    "* 02/07/2022 12:34:16 - INFO - DTI_model -   number of all parameters: 1.242409e+08\n",
    "* 02/07/2022 12:34:16 - INFO - DTI_model -   number of  trainable parameters: 1.519027e+07\n",
    "\n",
    "### Querying Block: 1-RNN without read and write layers\n",
    "* 02/07/2022 18:46:34 - INFO - DTI_model -   number of all parameters: 1.128371e+08\n",
    "* 02/07/2022 18:46:34 - INFO - DTI_model -   number of  trainable parameters: 3.786496e+06\n",
    "\n",
    "### Querying Block: 1-RNN with read and write layers\n",
    "* 02/07/2022 19:39:16 - INFO - DTI_model -   number of all parameters: 1.128556e+08\n",
    "* 02/07/2022 19:39:16 - INFO - DTI_model -   number of  trainable parameters: 3.804932e+06\n",
    "\n",
    "### Querying Block: 2-RNN with read and write layers\n",
    "* 02/07/2022 20:43:18 - INFO - DTI_model -   number of all parameters: 1.140367e+08\n",
    "* 02/07/2022 20:43:18 - INFO - DTI_model -   number of  trainable parameters: 4.986116e+06\n",
    "\n",
    "### Querying Block: 2-RNN with read and write layers, Bert=PE+Bias\n",
    "* 03/13/2022 22:43:16 - INFO - DTI_model -   number of all parameters: 1.140367e+08\n",
    "* 03/13/2022 22:43:16 - INFO - DTI_model -   number of  trainable parameters: 5.050628e+06\n",
    "\n",
    "### Querying Block: 2-RNN with read and write layers, Bert=PE+Bias+LN\n",
    "* 03/15/2022 04:29:32 - INFO - DTI_model -   number of all parameters: 1.140367e+08\n",
    "* 03/15/2022 04:29:32 - INFO - DTI_model -   number of  trainable parameters: 5.069828e+06\n",
    "\n",
    "### Querying Block: 2-RNN with read and write layers, Bert=Bias\n",
    "* 03/16/2022 11:09:40 - INFO - DTI_model -   number of all parameters: 1.140367e+08\n",
    "* 03/16/2022 11:09:40 - INFO - DTI_model -   number of  trainable parameters: 4.657412e+06\n",
    "\n",
    "## mBert\n",
    "### Querying Block: 2-RNN with read and write layers\n",
    "* 02/10/2022 09:18:09 - INFO - DTI_model -   number of all parameters: 1.719109e+08\n",
    "* 02/10/2022 09:18:09 - INFO - DTI_model -   number of  trainable parameters: 4.986116e+06"
   ]
  },
  {
   "cell_type": "markdown",
   "id": "78e63649",
   "metadata": {},
   "source": [
    "### Learning_Curve:"
   ]
  },
  {
   "cell_type": "code",
   "execution_count": null,
   "id": "5c47a593",
   "metadata": {},
   "outputs": [],
   "source": [
    "import utils\n",
    "from utils import plot_learning_curve\n",
    "train_state_path = '/home/mhmd_sabry_ab/models/Bert/model_checkpoints/bert_gp16_linear_warmups_0.65_w0.7_2rnn_enabled_decayed_300epoch_train_state.json'\n",
    "saving_path = '/home/mhmd_sabry_ab/models/Bert/model_checkpoints/bert_gp16_linear_warmups_0.65_w0.7_2rnn_enabled_decayed_300epoch'\n",
    "plot_learning_curve(train_state_path,saving_path)"
   ]
  },
  {
   "cell_type": "markdown",
   "id": "03dc5f12",
   "metadata": {},
   "source": [
    "### Testset Metrics:"
   ]
  },
  {
   "cell_type": "code",
   "execution_count": null,
   "id": "e48e2066",
   "metadata": {},
   "outputs": [],
   "source": [
    "!python test.py -c model_configs/bert_config.ini"
   ]
  },
  {
   "cell_type": "code",
   "execution_count": null,
   "id": "63d529db",
   "metadata": {},
   "outputs": [],
   "source": []
  }
 ],
 "metadata": {
  "kernelspec": {
   "display_name": "Python [conda env:root] *",
   "language": "python",
   "name": "conda-root-py"
  },
  "language_info": {
   "codemirror_mode": {
    "name": "ipython",
    "version": 3
   },
   "file_extension": ".py",
   "mimetype": "text/x-python",
   "name": "python",
   "nbconvert_exporter": "python",
   "pygments_lexer": "ipython3",
   "version": "3.7.12"
  }
 },
 "nbformat": 4,
 "nbformat_minor": 5
}

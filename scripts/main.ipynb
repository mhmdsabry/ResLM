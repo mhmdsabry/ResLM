{
 "cells": [
  {
   "cell_type": "markdown",
   "id": "8631b526",
   "metadata": {},
   "source": [
    "### Train:"
   ]
  },
  {
   "cell_type": "code",
   "execution_count": 8,
   "id": "62d8c427",
   "metadata": {
    "scrolled": true
   },
   "outputs": [
    {
     "name": "stdout",
     "output_type": "stream",
     "text": [
      "Read /home/mhmd_sabry_ab/data/kiba/ start\n",
      "Reading /home/mhmd_sabry_ab/data/kiba/ start\n",
      "Start Pairing: 100%|█████████████████| 118254/118254 [00:01<00:00, 84987.36it/s]\n",
      "Some weights of the model checkpoint at bert-base-uncased were not used when initializing BertModel: ['cls.seq_relationship.bias', 'cls.predictions.transform.LayerNorm.bias', 'cls.predictions.decoder.weight', 'cls.predictions.transform.LayerNorm.weight', 'cls.seq_relationship.weight', 'cls.predictions.transform.dense.bias', 'cls.predictions.transform.dense.weight', 'cls.predictions.bias']\n",
      "- This IS expected if you are initializing BertModel from the checkpoint of a model trained on another task or with another architecture (e.g. initializing a BertForSequenceClassification model from a BertForPreTraining model).\n",
      "- This IS NOT expected if you are initializing BertModel from the checkpoint of a model that you expect to be exactly identical (initializing a BertForSequenceClassification model from a BertForSequenceClassification model).\n",
      "02/07/2022 13:32:27 - INFO - DTI_model -   number of all parameters: 1.242409e+08\n",
      "02/07/2022 13:32:27 - INFO - DTI_model -   number of  trainable parameters: 1.519027e+07\n",
      "epoch=1/ 10\n",
      "Itr=0, loss=128.7507781982422\n",
      "Itr=50, loss=96.03038787841797\n",
      "Itr=100, loss=5.469969749450684\n",
      "Itr=150, loss=1.1970272064208984\n",
      "Itr=200, loss=1.044581651687622\n",
      "Itr=250, loss=0.9639468789100647\n",
      "Itr=300, loss=1.1191773414611816\n",
      "02/07/2022 13:37:42 - INFO - Trainer -   Saving at /home/mhmd_sabry_ab/models/Bert/model_checkpoints/bert_lr_warmup_0.4\n",
      "02/07/2022 13:37:42 - INFO - Trainer -   Saving at /home/mhmd_sabry_ab/models/Bert/model_checkpoints/bert_lr_warmup_0.4\n",
      "02/07/2022 13:37:42 - INFO - Trainer -   Saving at /home/mhmd_sabry_ab/models/Bert/model_checkpoints/bert_lr_warmup_0.4\n",
      "02/07/2022 13:37:42 - INFO - Trainer -   Saving at /home/mhmd_sabry_ab/models/Bert/model_checkpoints/bert_lr_warmup_0.4\n",
      "02/07/2022 13:37:42 - INFO - Trainer -   Saving at /home/mhmd_sabry_ab/models/Bert/model_checkpoints/bert_lr_warmup_0.4\n",
      "02/07/2022 13:37:42 - INFO - Trainer -   Saving at /home/mhmd_sabry_ab/models/Bert/model_checkpoints/bert_lr_warmup_0.4\n",
      "02/07/2022 13:37:42 - INFO - Trainer -   Saving at /home/mhmd_sabry_ab/models/Bert/model_checkpoints/bert_lr_warmup_0.4\n",
      "02/07/2022 13:37:42 - INFO - Trainer -   Saving at /home/mhmd_sabry_ab/models/Bert/model_checkpoints/bert_lr_warmup_0.4\n",
      "epoch=2/ 10\n",
      "Itr=0, loss=0.6703460812568665\n",
      "Itr=50, loss=0.6242503523826599\n",
      "Itr=100, loss=0.7166547775268555\n",
      "Itr=150, loss=0.713481605052948\n",
      "Itr=200, loss=0.639204740524292\n",
      "Itr=250, loss=0.787915050983429\n",
      "Itr=300, loss=0.9517343640327454\n",
      "02/07/2022 13:42:41 - INFO - Trainer -   Saving at /home/mhmd_sabry_ab/models/Bert/model_checkpoints/bert_lr_warmup_0.4\n",
      "02/07/2022 13:42:41 - INFO - Trainer -   Saving at /home/mhmd_sabry_ab/models/Bert/model_checkpoints/bert_lr_warmup_0.4\n",
      "02/07/2022 13:42:41 - INFO - Trainer -   Saving at /home/mhmd_sabry_ab/models/Bert/model_checkpoints/bert_lr_warmup_0.4\n",
      "02/07/2022 13:42:41 - INFO - Trainer -   Saving at /home/mhmd_sabry_ab/models/Bert/model_checkpoints/bert_lr_warmup_0.4\n",
      "02/07/2022 13:42:41 - INFO - Trainer -   Saving at /home/mhmd_sabry_ab/models/Bert/model_checkpoints/bert_lr_warmup_0.4\n",
      "02/07/2022 13:42:41 - INFO - Trainer -   Saving at /home/mhmd_sabry_ab/models/Bert/model_checkpoints/bert_lr_warmup_0.4\n",
      "02/07/2022 13:42:41 - INFO - Trainer -   Saving at /home/mhmd_sabry_ab/models/Bert/model_checkpoints/bert_lr_warmup_0.4\n",
      "02/07/2022 13:42:41 - INFO - Trainer -   Saving at /home/mhmd_sabry_ab/models/Bert/model_checkpoints/bert_lr_warmup_0.4\n",
      "epoch=3/ 10\n",
      "Itr=0, loss=0.5597344040870667\n",
      "Itr=50, loss=0.5688821077346802\n",
      "Itr=100, loss=0.6809139847755432\n",
      "Itr=150, loss=0.729341983795166\n",
      "Itr=200, loss=0.6679510474205017\n",
      "Itr=250, loss=0.7614379525184631\n",
      "Itr=300, loss=0.925091564655304\n",
      "epoch=4/ 10\n",
      "Itr=0, loss=0.5657328367233276\n",
      "Itr=50, loss=0.5582395195960999\n",
      "Itr=100, loss=0.6802682280540466\n",
      "Itr=150, loss=0.687218189239502\n",
      "Itr=200, loss=0.6509737372398376\n",
      "Itr=250, loss=0.7425800561904907\n",
      "Itr=300, loss=0.9116021394729614\n",
      "epoch=5/ 10\n",
      "Itr=0, loss=0.5649129748344421\n",
      "Itr=50, loss=0.5438624620437622\n",
      "Itr=100, loss=0.6662396192550659\n",
      "Itr=150, loss=0.6866052746772766\n",
      "Itr=200, loss=0.6401489973068237\n",
      "Itr=250, loss=0.7351545095443726\n",
      "Itr=300, loss=1.0398880243301392\n",
      "epoch=6/ 10\n",
      "Itr=0, loss=0.6280910968780518\n",
      "Itr=50, loss=0.5415013432502747\n",
      "Itr=100, loss=0.6374608278274536\n",
      "Itr=150, loss=0.6592428684234619\n",
      "Itr=200, loss=0.6539298295974731\n",
      "Itr=250, loss=0.7327510714530945\n",
      "Itr=300, loss=0.950939416885376\n",
      "epoch=7/ 10\n",
      "Itr=0, loss=0.619949996471405\n",
      "Itr=50, loss=0.5439122319221497\n",
      "Itr=100, loss=0.6405794024467468\n",
      "Itr=150, loss=0.6651668548583984\n",
      "Itr=200, loss=0.6239635944366455\n",
      "Itr=250, loss=0.7346290946006775\n",
      "Itr=300, loss=0.9919305443763733\n",
      "epoch=8/ 10\n",
      "Itr=0, loss=0.5619442462921143\n",
      "Itr=50, loss=0.5254157185554504\n",
      "Itr=100, loss=0.6556331515312195\n",
      "Itr=150, loss=0.6380869746208191\n",
      "Itr=200, loss=0.6371712684631348\n",
      "Itr=250, loss=0.7271088361740112\n",
      "Itr=300, loss=0.893523097038269\n",
      "epoch=9/ 10\n",
      "Itr=0, loss=0.5401308536529541\n",
      "Itr=50, loss=0.5379916429519653\n",
      "Itr=100, loss=0.6466976404190063\n",
      "Itr=150, loss=0.6608667969703674\n",
      "Itr=200, loss=0.644067108631134\n",
      "Itr=250, loss=0.7349863052368164\n",
      "Itr=300, loss=0.9266425371170044\n",
      "epoch=10/ 10\n",
      "Itr=0, loss=0.5717486143112183\n",
      "Itr=50, loss=0.5233976244926453\n",
      "Itr=100, loss=0.6403344869613647\n",
      "Itr=150, loss=0.6464389562606812\n",
      "Itr=200, loss=0.6323276162147522\n",
      "Itr=250, loss=0.7341269850730896\n",
      "Itr=300, loss=0.8924520611763\n"
     ]
    }
   ],
   "source": [
    "!python train.py -c bert_config.ini"
   ]
  },
  {
   "cell_type": "markdown",
   "id": "c9c54419",
   "metadata": {},
   "source": [
    "02/07/2022 12:34:16 - INFO - DTI_model -   number of all parameters: 1.242409e+08\n",
    "\n",
    "02/07/2022 12:34:16 - INFO - DTI_model -   number of  trainable parameters: 1.519027e+07"
   ]
  },
  {
   "cell_type": "markdown",
   "id": "78e63649",
   "metadata": {},
   "source": [
    "### Learning_Curve:"
   ]
  },
  {
   "cell_type": "code",
   "execution_count": 9,
   "id": "5c47a593",
   "metadata": {},
   "outputs": [
    {
     "data": {
      "image/png": "[encoded data removed]",
      "text/plain": [
       "<Figure size 432x288 with 1 Axes>"
      ]
     },
     "metadata": {
      "needs_background": "light"
     },
     "output_type": "display_data"
    }
   ],
   "source": [
    "import utils\n",
    "from utils import plot_learning_curve\n",
    "train_state_path = '/home/mhmd_sabry_ab/models/Bert/model_checkpoints/bert_lr_warmup_0.4_10epoch_train_state.json'\n",
    "saving_path = '/home/mhmd_sabry_ab/models/Bert/model_checkpoints/bert_lr_warmup_0.4_10epoch'\n",
    "plot_learning_curve(train_state_path,saving_path)"
   ]
  },
  {
   "cell_type": "markdown",
   "id": "03dc5f12",
   "metadata": {},
   "source": [
    "### Testset Metrics:"
   ]
  },
  {
   "cell_type": "code",
   "execution_count": 10,
   "id": "e48e2066",
   "metadata": {},
   "outputs": [
    {
     "name": "stdout",
     "output_type": "stream",
     "text": [
      "Read /home/mhmd_sabry_ab/data/kiba/ start\n",
      "Reading /home/mhmd_sabry_ab/data/kiba/ start\n",
      "Start Pairing: 100%|████████████████| 118254/118254 [00:01<00:00, 117941.31it/s]\n",
      "Some weights of the model checkpoint at bert-base-uncased were not used when initializing BertModel: ['cls.seq_relationship.weight', 'cls.predictions.transform.LayerNorm.bias', 'cls.seq_relationship.bias', 'cls.predictions.transform.LayerNorm.weight', 'cls.predictions.transform.dense.weight', 'cls.predictions.bias', 'cls.predictions.transform.dense.bias', 'cls.predictions.decoder.weight']\n",
      "- This IS expected if you are initializing BertModel from the checkpoint of a model trained on another task or with another architecture (e.g. initializing a BertForSequenceClassification model from a BertForPreTraining model).\n",
      "- This IS NOT expected if you are initializing BertModel from the checkpoint of a model that you expect to be exactly identical (initializing a BertForSequenceClassification model from a BertForSequenceClassification model).\n",
      "CI:0.5175380648615929 , MSE:0.6612976559183814 , AUPR:0.12889218452886675\n"
     ]
    }
   ],
   "source": [
    "!python test.py -c bert_config.ini"
   ]
  },
  {
   "cell_type": "code",
   "execution_count": null,
   "id": "20119546",
   "metadata": {},
   "outputs": [],
   "source": []
  }
 ],
 "metadata": {
  "kernelspec": {
   "display_name": "Python [conda env:root] *",
   "language": "python",
   "name": "conda-root-py"
  },
  "language_info": {
   "codemirror_mode": {
    "name": "ipython",
    "version": 3
   },
   "file_extension": ".py",
   "mimetype": "text/x-python",
   "name": "python",
   "nbconvert_exporter": "python",
   "pygments_lexer": "ipython3",
   "version": "3.7.12"
  }
 },
 "nbformat": 4,
 "nbformat_minor": 5
}

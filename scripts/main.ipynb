{
 "cells": [
  {
   "cell_type": "markdown",
   "id": "8631b526",
   "metadata": {},
   "source": [
    "### Train:"
   ]
  },
  {
   "cell_type": "code",
   "execution_count": 113,
   "id": "62d8c427",
   "metadata": {
    "scrolled": true
   },
   "outputs": [
    {
     "name": "stdout",
     "output_type": "stream",
     "text": [
      "Read /home/mhmd_sabry_ab/data/kiba/ start\n",
      "Reading /home/mhmd_sabry_ab/data/kiba/ start\n",
      "Start Pairing: 100%|█████████████████| 118254/118254 [00:04<00:00, 25641.56it/s]\n",
      "Some weights of the model checkpoint at bert-base-uncased were not used when initializing BertModel: ['cls.seq_relationship.weight', 'cls.predictions.decoder.weight', 'cls.seq_relationship.bias', 'cls.predictions.transform.dense.bias', 'cls.predictions.bias', 'cls.predictions.transform.dense.weight', 'cls.predictions.transform.LayerNorm.weight', 'cls.predictions.transform.LayerNorm.bias']\n",
      "- This IS expected if you are initializing BertModel from the checkpoint of a model trained on another task or with another architecture (e.g. initializing a BertForSequenceClassification model from a BertForPreTraining model).\n",
      "- This IS NOT expected if you are initializing BertModel from the checkpoint of a model that you expect to be exactly identical (initializing a BertForSequenceClassification model from a BertForSequenceClassification model).\n",
      "02/13/2022 20:43:13 - INFO - DTI_model -   number of all parameters: 1.140367e+08\n",
      "02/13/2022 20:43:13 - INFO - DTI_model -   number of  trainable parameters: 4.986116e+06\n",
      "epoch=1/ 6\n",
      "Itr=0, loss=120.4062728881836\n",
      "Itr=50, loss=13.332503318786621\n",
      "Itr=100, loss=0.6386232376098633\n",
      "Itr=150, loss=0.6415296196937561\n",
      "Itr=200, loss=0.618486762046814\n",
      "Itr=250, loss=0.6733847856521606\n",
      "Itr=300, loss=0.8262420892715454\n",
      "02/13/2022 20:48:32 - INFO - Trainer -   Saving at /home/mhmd_sabry_ab/models/Bert/model_checkpoints/bert_gp16_lr3e4_cosine_hardstartwarmup_std002_w06_0.4_2rnn_enabled\n",
      "02/13/2022 20:48:32 - INFO - Trainer -   Saving at /home/mhmd_sabry_ab/models/Bert/model_checkpoints/bert_gp16_lr3e4_cosine_hardstartwarmup_std002_w06_0.4_2rnn_enabled\n",
      "02/13/2022 20:48:32 - INFO - Trainer -   Saving at /home/mhmd_sabry_ab/models/Bert/model_checkpoints/bert_gp16_lr3e4_cosine_hardstartwarmup_std002_w06_0.4_2rnn_enabled\n",
      "02/13/2022 20:48:32 - INFO - Trainer -   Saving at /home/mhmd_sabry_ab/models/Bert/model_checkpoints/bert_gp16_lr3e4_cosine_hardstartwarmup_std002_w06_0.4_2rnn_enabled\n",
      "02/13/2022 20:48:32 - INFO - Trainer -   Saving at /home/mhmd_sabry_ab/models/Bert/model_checkpoints/bert_gp16_lr3e4_cosine_hardstartwarmup_std002_w06_0.4_2rnn_enabled\n",
      "02/13/2022 20:48:32 - INFO - Trainer -   Saving at /home/mhmd_sabry_ab/models/Bert/model_checkpoints/bert_gp16_lr3e4_cosine_hardstartwarmup_std002_w06_0.4_2rnn_enabled\n",
      "02/13/2022 20:48:32 - INFO - Trainer -   Saving at /home/mhmd_sabry_ab/models/Bert/model_checkpoints/bert_gp16_lr3e4_cosine_hardstartwarmup_std002_w06_0.4_2rnn_enabled\n",
      "02/13/2022 20:48:32 - INFO - Trainer -   Saving at /home/mhmd_sabry_ab/models/Bert/model_checkpoints/bert_gp16_lr3e4_cosine_hardstartwarmup_std002_w06_0.4_2rnn_enabled\n",
      "epoch=2/ 6\n",
      "Itr=0, loss=0.49049851298332214\n",
      "Itr=50, loss=0.521808922290802\n",
      "Itr=100, loss=0.5233832001686096\n",
      "Itr=150, loss=0.5918794274330139\n",
      "Itr=200, loss=0.5682916045188904\n",
      "Itr=250, loss=0.6623994708061218\n",
      "Itr=300, loss=0.7506399154663086\n",
      "02/13/2022 20:53:23 - INFO - Trainer -   Saving at /home/mhmd_sabry_ab/models/Bert/model_checkpoints/bert_gp16_lr3e4_cosine_hardstartwarmup_std002_w06_0.4_2rnn_enabled\n",
      "02/13/2022 20:53:23 - INFO - Trainer -   Saving at /home/mhmd_sabry_ab/models/Bert/model_checkpoints/bert_gp16_lr3e4_cosine_hardstartwarmup_std002_w06_0.4_2rnn_enabled\n",
      "02/13/2022 20:53:23 - INFO - Trainer -   Saving at /home/mhmd_sabry_ab/models/Bert/model_checkpoints/bert_gp16_lr3e4_cosine_hardstartwarmup_std002_w06_0.4_2rnn_enabled\n",
      "02/13/2022 20:53:23 - INFO - Trainer -   Saving at /home/mhmd_sabry_ab/models/Bert/model_checkpoints/bert_gp16_lr3e4_cosine_hardstartwarmup_std002_w06_0.4_2rnn_enabled\n",
      "02/13/2022 20:53:23 - INFO - Trainer -   Saving at /home/mhmd_sabry_ab/models/Bert/model_checkpoints/bert_gp16_lr3e4_cosine_hardstartwarmup_std002_w06_0.4_2rnn_enabled\n",
      "02/13/2022 20:53:23 - INFO - Trainer -   Saving at /home/mhmd_sabry_ab/models/Bert/model_checkpoints/bert_gp16_lr3e4_cosine_hardstartwarmup_std002_w06_0.4_2rnn_enabled\n",
      "02/13/2022 20:53:23 - INFO - Trainer -   Saving at /home/mhmd_sabry_ab/models/Bert/model_checkpoints/bert_gp16_lr3e4_cosine_hardstartwarmup_std002_w06_0.4_2rnn_enabled\n",
      "02/13/2022 20:53:23 - INFO - Trainer -   Saving at /home/mhmd_sabry_ab/models/Bert/model_checkpoints/bert_gp16_lr3e4_cosine_hardstartwarmup_std002_w06_0.4_2rnn_enabled\n",
      "epoch=3/ 6\n",
      "Itr=0, loss=0.45214250683784485\n",
      "Itr=50, loss=0.4602624177932739\n",
      "Itr=100, loss=0.5262748003005981\n",
      "Itr=150, loss=0.546419084072113\n",
      "Itr=200, loss=0.5595736503601074\n",
      "Itr=250, loss=0.6430048942565918\n",
      "Itr=300, loss=0.7127817273139954\n",
      "02/13/2022 20:58:16 - INFO - Trainer -   Saving at /home/mhmd_sabry_ab/models/Bert/model_checkpoints/bert_gp16_lr3e4_cosine_hardstartwarmup_std002_w06_0.4_2rnn_enabled\n",
      "02/13/2022 20:58:16 - INFO - Trainer -   Saving at /home/mhmd_sabry_ab/models/Bert/model_checkpoints/bert_gp16_lr3e4_cosine_hardstartwarmup_std002_w06_0.4_2rnn_enabled\n",
      "02/13/2022 20:58:16 - INFO - Trainer -   Saving at /home/mhmd_sabry_ab/models/Bert/model_checkpoints/bert_gp16_lr3e4_cosine_hardstartwarmup_std002_w06_0.4_2rnn_enabled\n",
      "02/13/2022 20:58:16 - INFO - Trainer -   Saving at /home/mhmd_sabry_ab/models/Bert/model_checkpoints/bert_gp16_lr3e4_cosine_hardstartwarmup_std002_w06_0.4_2rnn_enabled\n",
      "02/13/2022 20:58:16 - INFO - Trainer -   Saving at /home/mhmd_sabry_ab/models/Bert/model_checkpoints/bert_gp16_lr3e4_cosine_hardstartwarmup_std002_w06_0.4_2rnn_enabled\n",
      "02/13/2022 20:58:16 - INFO - Trainer -   Saving at /home/mhmd_sabry_ab/models/Bert/model_checkpoints/bert_gp16_lr3e4_cosine_hardstartwarmup_std002_w06_0.4_2rnn_enabled\n",
      "02/13/2022 20:58:16 - INFO - Trainer -   Saving at /home/mhmd_sabry_ab/models/Bert/model_checkpoints/bert_gp16_lr3e4_cosine_hardstartwarmup_std002_w06_0.4_2rnn_enabled\n",
      "02/13/2022 20:58:16 - INFO - Trainer -   Saving at /home/mhmd_sabry_ab/models/Bert/model_checkpoints/bert_gp16_lr3e4_cosine_hardstartwarmup_std002_w06_0.4_2rnn_enabled\n",
      "epoch=4/ 6\n",
      "Itr=0, loss=0.43793725967407227\n",
      "Itr=50, loss=0.688402533531189\n",
      "Itr=100, loss=0.5308750867843628\n",
      "Itr=150, loss=0.5606377124786377\n",
      "Itr=200, loss=0.5269318222999573\n",
      "Itr=250, loss=0.5898553729057312\n",
      "Itr=300, loss=0.6685333251953125\n",
      "02/13/2022 21:03:09 - INFO - Trainer -   Saving at /home/mhmd_sabry_ab/models/Bert/model_checkpoints/bert_gp16_lr3e4_cosine_hardstartwarmup_std002_w06_0.4_2rnn_enabled\n",
      "02/13/2022 21:03:09 - INFO - Trainer -   Saving at /home/mhmd_sabry_ab/models/Bert/model_checkpoints/bert_gp16_lr3e4_cosine_hardstartwarmup_std002_w06_0.4_2rnn_enabled\n",
      "02/13/2022 21:03:09 - INFO - Trainer -   Saving at /home/mhmd_sabry_ab/models/Bert/model_checkpoints/bert_gp16_lr3e4_cosine_hardstartwarmup_std002_w06_0.4_2rnn_enabled\n",
      "02/13/2022 21:03:09 - INFO - Trainer -   Saving at /home/mhmd_sabry_ab/models/Bert/model_checkpoints/bert_gp16_lr3e4_cosine_hardstartwarmup_std002_w06_0.4_2rnn_enabled\n",
      "02/13/2022 21:03:09 - INFO - Trainer -   Saving at /home/mhmd_sabry_ab/models/Bert/model_checkpoints/bert_gp16_lr3e4_cosine_hardstartwarmup_std002_w06_0.4_2rnn_enabled\n",
      "02/13/2022 21:03:09 - INFO - Trainer -   Saving at /home/mhmd_sabry_ab/models/Bert/model_checkpoints/bert_gp16_lr3e4_cosine_hardstartwarmup_std002_w06_0.4_2rnn_enabled\n",
      "02/13/2022 21:03:09 - INFO - Trainer -   Saving at /home/mhmd_sabry_ab/models/Bert/model_checkpoints/bert_gp16_lr3e4_cosine_hardstartwarmup_std002_w06_0.4_2rnn_enabled\n",
      "02/13/2022 21:03:09 - INFO - Trainer -   Saving at /home/mhmd_sabry_ab/models/Bert/model_checkpoints/bert_gp16_lr3e4_cosine_hardstartwarmup_std002_w06_0.4_2rnn_enabled\n",
      "epoch=5/ 6\n",
      "Itr=0, loss=0.4469102621078491\n",
      "Itr=50, loss=0.41640564799308777\n",
      "Itr=100, loss=0.48919370770454407\n",
      "Itr=150, loss=0.5238421559333801\n",
      "Itr=200, loss=0.48789095878601074\n",
      "Itr=250, loss=0.5170578956604004\n",
      "Itr=300, loss=0.622748076915741\n",
      "epoch=6/ 6\n",
      "Itr=0, loss=0.40328964591026306\n",
      "Itr=50, loss=0.39503148198127747\n",
      "Itr=100, loss=0.42055249214172363\n",
      "Itr=150, loss=0.507254958152771\n",
      "Itr=200, loss=0.4427637755870819\n",
      "Itr=250, loss=0.5078833699226379\n",
      "Itr=300, loss=0.5845476984977722\n",
      "02/13/2022 21:12:53 - INFO - Trainer -   Saving at /home/mhmd_sabry_ab/models/Bert/model_checkpoints/bert_gp16_lr3e4_cosine_hardstartwarmup_std002_w06_0.4_2rnn_enabled\n",
      "02/13/2022 21:12:53 - INFO - Trainer -   Saving at /home/mhmd_sabry_ab/models/Bert/model_checkpoints/bert_gp16_lr3e4_cosine_hardstartwarmup_std002_w06_0.4_2rnn_enabled\n",
      "02/13/2022 21:12:53 - INFO - Trainer -   Saving at /home/mhmd_sabry_ab/models/Bert/model_checkpoints/bert_gp16_lr3e4_cosine_hardstartwarmup_std002_w06_0.4_2rnn_enabled\n",
      "02/13/2022 21:12:53 - INFO - Trainer -   Saving at /home/mhmd_sabry_ab/models/Bert/model_checkpoints/bert_gp16_lr3e4_cosine_hardstartwarmup_std002_w06_0.4_2rnn_enabled\n",
      "02/13/2022 21:12:53 - INFO - Trainer -   Saving at /home/mhmd_sabry_ab/models/Bert/model_checkpoints/bert_gp16_lr3e4_cosine_hardstartwarmup_std002_w06_0.4_2rnn_enabled\n",
      "02/13/2022 21:12:53 - INFO - Trainer -   Saving at /home/mhmd_sabry_ab/models/Bert/model_checkpoints/bert_gp16_lr3e4_cosine_hardstartwarmup_std002_w06_0.4_2rnn_enabled\n",
      "02/13/2022 21:12:53 - INFO - Trainer -   Saving at /home/mhmd_sabry_ab/models/Bert/model_checkpoints/bert_gp16_lr3e4_cosine_hardstartwarmup_std002_w06_0.4_2rnn_enabled\n",
      "02/13/2022 21:12:53 - INFO - Trainer -   Saving at /home/mhmd_sabry_ab/models/Bert/model_checkpoints/bert_gp16_lr3e4_cosine_hardstartwarmup_std002_w06_0.4_2rnn_enabled\n"
     ]
    }
   ],
   "source": [
    "!python train.py -c bert_config.ini"
   ]
  },
  {
   "cell_type": "markdown",
   "id": "4515f731",
   "metadata": {},
   "source": [
    "## Bert\n",
    "### Querying Block: Conv1d\n",
    "* 02/07/2022 12:34:16 - INFO - DTI_model -   number of all parameters: 1.242409e+08\n",
    "* 02/07/2022 12:34:16 - INFO - DTI_model -   number of  trainable parameters: 1.519027e+07\n",
    "\n",
    "### Querying Block: 1-RNN without read and write layers\n",
    "* 02/07/2022 18:46:34 - INFO - DTI_model -   number of all parameters: 1.128371e+08\n",
    "* 02/07/2022 18:46:34 - INFO - DTI_model -   number of  trainable parameters: 3.786496e+06\n",
    "\n",
    "### Querying Block: 1-RNN with read and write layers\n",
    "* 02/07/2022 19:39:16 - INFO - DTI_model -   number of all parameters: 1.128556e+08\n",
    "* 02/07/2022 19:39:16 - INFO - DTI_model -   number of  trainable parameters: 3.804932e+06\n",
    "\n",
    "### Querying Block: 2-RNN with read and write layers\n",
    "* 02/07/2022 20:43:18 - INFO - DTI_model -   number of all parameters: 1.140367e+08\n",
    "* 02/07/2022 20:43:18 - INFO - DTI_model -   number of  trainable parameters: 4.986116e+06\n",
    "\n",
    "## mBert\n",
    "### Querying Block: 2-RNN with read and write layers\n",
    "* 02/10/2022 09:18:09 - INFO - DTI_model -   number of all parameters: 1.719109e+08\n",
    "* 02/10/2022 09:18:09 - INFO - DTI_model -   number of  trainable parameters: 4.986116e+06"
   ]
  },
  {
   "cell_type": "markdown",
   "id": "78e63649",
   "metadata": {},
   "source": [
    "### Learning_Curve:"
   ]
  },
  {
   "cell_type": "code",
   "execution_count": 114,
   "id": "5c47a593",
   "metadata": {},
   "outputs": [
    {
     "data": {
      "image/png": "[encoded data removed]",
      "text/plain": [
       "<Figure size 432x288 with 1 Axes>"
      ]
     },
     "metadata": {
      "needs_background": "light"
     },
     "output_type": "display_data"
    }
   ],
   "source": [
    "import utils\n",
    "from utils import plot_learning_curve\n",
    "train_state_path = '/home/mhmd_sabry_ab/models/Bert/model_checkpoints/bert_gp16_lr3e4_cosine_hardstartwarmup_std002_w06_0.4_2rnn_enabled_6epoch_train_state.json'\n",
    "saving_path = '/home/mhmd_sabry_ab/models/Bert/model_checkpoints/bert_gp16_lr3e4_cosine_hardstartwarmup_std002_w06_0.4_2rnn_enabled_6epoch'\n",
    "plot_learning_curve(train_state_path,saving_path)"
   ]
  },
  {
   "cell_type": "markdown",
   "id": "03dc5f12",
   "metadata": {},
   "source": [
    "### Testset Metrics:"
   ]
  },
  {
   "cell_type": "code",
   "execution_count": 115,
   "id": "e48e2066",
   "metadata": {},
   "outputs": [
    {
     "name": "stdout",
     "output_type": "stream",
     "text": [
      "Read /home/mhmd_sabry_ab/data/kiba/ start\n",
      "Reading /home/mhmd_sabry_ab/data/kiba/ start\n",
      "Start Pairing: 100%|█████████████████| 118254/118254 [00:01<00:00, 98666.91it/s]\n",
      "Some weights of the model checkpoint at bert-base-uncased were not used when initializing BertModel: ['cls.predictions.transform.dense.weight', 'cls.seq_relationship.bias', 'cls.predictions.bias', 'cls.predictions.transform.LayerNorm.weight', 'cls.predictions.decoder.weight', 'cls.seq_relationship.weight', 'cls.predictions.transform.dense.bias', 'cls.predictions.transform.LayerNorm.bias']\n",
      "- This IS expected if you are initializing BertModel from the checkpoint of a model trained on another task or with another architecture (e.g. initializing a BertForSequenceClassification model from a BertForPreTraining model).\n",
      "- This IS NOT expected if you are initializing BertModel from the checkpoint of a model that you expect to be exactly identical (initializing a BertForSequenceClassification model from a BertForSequenceClassification model).\n",
      "CI:0.7530927700044234 , MSE:0.5341163337617726 , AUPR:0.4087818963609233\n"
     ]
    }
   ],
   "source": [
    "!python test.py -c bert_config.ini"
   ]
  },
  {
   "cell_type": "code",
   "execution_count": null,
   "id": "00dee30a",
   "metadata": {},
   "outputs": [],
   "source": []
  }
 ],
 "metadata": {
  "kernelspec": {
   "display_name": "Python [conda env:root] *",
   "language": "python",
   "name": "conda-root-py"
  },
  "language_info": {
   "codemirror_mode": {
    "name": "ipython",
    "version": 3
   },
   "file_extension": ".py",
   "mimetype": "text/x-python",
   "name": "python",
   "nbconvert_exporter": "python",
   "pygments_lexer": "ipython3",
   "version": "3.7.12"
  }
 },
 "nbformat": 4,
 "nbformat_minor": 5
}
